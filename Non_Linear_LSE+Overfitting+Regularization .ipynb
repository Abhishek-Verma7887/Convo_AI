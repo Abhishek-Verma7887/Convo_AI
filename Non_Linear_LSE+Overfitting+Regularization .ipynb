{
 "cells": [
  {
   "cell_type": "code",
   "execution_count": 1,
   "metadata": {},
   "outputs": [],
   "source": [
    "import cuml\n",
    "import cudf\n",
    "import cupy"
   ]
  },
  {
   "cell_type": "code",
   "execution_count": 2,
   "metadata": {},
   "outputs": [],
   "source": [
    "#Importing Dataset\n",
    "df=cudf.read_csv('ab.csv')"
   ]
  },
  {
   "cell_type": "code",
   "execution_count": 3,
   "metadata": {},
   "outputs": [
    {
     "name": "stdout",
     "output_type": "stream",
     "text": [
      "<class 'cudf.core.dataframe.DataFrame'>\n",
      "RangeIndex: 236 entries, 0 to 235\n",
      "Data columns (total 2 columns):\n",
      " #   Column  Non-Null Count  Dtype\n",
      "---  ------  --------------  -----\n",
      " 0   y       236 non-null    float64\n",
      " 1   x       236 non-null    float64\n",
      "dtypes: float64(2)\n",
      "memory usage: 3.7 KB\n"
     ]
    }
   ],
   "source": [
    "df.info()"
   ]
  },
  {
   "cell_type": "markdown",
   "metadata": {},
   "source": [
    "#Fitting a Linear Regression model"
   ]
  },
  {
   "cell_type": "code",
   "execution_count": 5,
   "metadata": {},
   "outputs": [],
   "source": [
    "#Seperating Input and Output Features\n",
    "X=df.iloc[:,1]\n",
    "Y=df.iloc[:,0]"
   ]
  },
  {
   "cell_type": "code",
   "execution_count": 8,
   "metadata": {},
   "outputs": [],
   "source": [
    "#Scaling input features\n",
    "from cuml.preprocessing import StandardScaler\n",
    "ss=StandardScaler()\n",
    "X_scaled=ss.fit_transform(cudf.DataFrame(X))"
   ]
  },
  {
   "cell_type": "code",
   "execution_count": 9,
   "metadata": {},
   "outputs": [],
   "source": [
    "X_scaled=cudf.DataFrame(X_scaled)"
   ]
  },
  {
   "cell_type": "code",
   "execution_count": 10,
   "metadata": {},
   "outputs": [],
   "source": [
    "#Adding a column of Ones\n",
    "X_scaled.insert(loc=0,value=1.0,name='Ones')"
   ]
  },
  {
   "cell_type": "code",
   "execution_count": 11,
   "metadata": {},
   "outputs": [],
   "source": [
    "#train-test_split\n",
    "from cuml.model_selection import train_test_split\n",
    "X_train,X_test,Y_train,Y_test=train_test_split(X_scaled,Y,test_size=0.30,random_state=42)"
   ]
  },
  {
   "cell_type": "code",
   "execution_count": 12,
   "metadata": {},
   "outputs": [],
   "source": [
    "#finding beta's using LSE\n",
    "A=X_train.values.T.dot(X_train.values)\n",
    "B=cupy.linalg.inv(A)\n",
    "C=B.dot(X_train.values.T)\n",
    "beta=C.dot(Y_train.values)"
   ]
  },
  {
   "cell_type": "code",
   "execution_count": 13,
   "metadata": {},
   "outputs": [
    {
     "data": {
      "text/plain": [
       "array([14.14973391,  4.78224172])"
      ]
     },
     "execution_count": 13,
     "metadata": {},
     "output_type": "execute_result"
    }
   ],
   "source": [
    "beta"
   ]
  },
  {
   "cell_type": "code",
   "execution_count": 14,
   "metadata": {},
   "outputs": [
    {
     "data": {
      "text/plain": [
       "0.6719866616378707"
      ]
     },
     "execution_count": 14,
     "metadata": {},
     "output_type": "execute_result"
    }
   ],
   "source": [
    "#Predicting and Testing\n",
    "Y_predict=X_test.values.dot(beta)\n",
    "from cuml import metrics\n",
    "metrics.r2_score(Y_test,Y_predict)"
   ]
  },
  {
   "cell_type": "raw",
   "metadata": {},
   "source": [
    "#The fit model is underfit as it shows a low R2 score. So fiiting a higher order polynomial function of order 5"
   ]
  },
  {
   "cell_type": "code",
   "execution_count": 15,
   "metadata": {},
   "outputs": [],
   "source": [
    "#adding powers of X\n",
    "from cuml.preprocessing import PolynomialFeatures\n",
    "pf=PolynomialFeatures(5)\n",
    "X5=pf.fit_transform(cudf.DataFrame(X))"
   ]
  },
  {
   "cell_type": "markdown",
   "metadata": {},
   "source": [
    "X5"
   ]
  },
  {
   "cell_type": "code",
   "execution_count": 16,
   "metadata": {},
   "outputs": [
    {
     "data": {
      "text/html": [
       "<div>\n",
       "<style scoped>\n",
       "    .dataframe tbody tr th:only-of-type {\n",
       "        vertical-align: middle;\n",
       "    }\n",
       "\n",
       "    .dataframe tbody tr th {\n",
       "        vertical-align: top;\n",
       "    }\n",
       "\n",
       "    .dataframe thead th {\n",
       "        text-align: right;\n",
       "    }\n",
       "</style>\n",
       "<table border=\"1\" class=\"dataframe\">\n",
       "  <thead>\n",
       "    <tr style=\"text-align: right;\">\n",
       "      <th></th>\n",
       "      <th>0</th>\n",
       "      <th>1</th>\n",
       "      <th>2</th>\n",
       "      <th>3</th>\n",
       "      <th>4</th>\n",
       "      <th>5</th>\n",
       "    </tr>\n",
       "  </thead>\n",
       "  <tbody>\n",
       "    <tr>\n",
       "      <th>0</th>\n",
       "      <td>1.0</td>\n",
       "      <td>24.4</td>\n",
       "      <td>595.36</td>\n",
       "      <td>1.452678e+04</td>\n",
       "      <td>3.544535e+05</td>\n",
       "      <td>8.648666e+06</td>\n",
       "    </tr>\n",
       "    <tr>\n",
       "      <th>1</th>\n",
       "      <td>1.0</td>\n",
       "      <td>34.8</td>\n",
       "      <td>1211.04</td>\n",
       "      <td>4.214419e+04</td>\n",
       "      <td>1.466618e+06</td>\n",
       "      <td>5.103830e+07</td>\n",
       "    </tr>\n",
       "    <tr>\n",
       "      <th>2</th>\n",
       "      <td>1.0</td>\n",
       "      <td>44.1</td>\n",
       "      <td>1944.81</td>\n",
       "      <td>8.576612e+04</td>\n",
       "      <td>3.782286e+06</td>\n",
       "      <td>1.667988e+08</td>\n",
       "    </tr>\n",
       "    <tr>\n",
       "      <th>3</th>\n",
       "      <td>1.0</td>\n",
       "      <td>45.1</td>\n",
       "      <td>2034.01</td>\n",
       "      <td>9.173385e+04</td>\n",
       "      <td>4.137197e+06</td>\n",
       "      <td>1.865876e+08</td>\n",
       "    </tr>\n",
       "    <tr>\n",
       "      <th>4</th>\n",
       "      <td>1.0</td>\n",
       "      <td>55.0</td>\n",
       "      <td>3025.00</td>\n",
       "      <td>1.663750e+05</td>\n",
       "      <td>9.150625e+06</td>\n",
       "      <td>5.032844e+08</td>\n",
       "    </tr>\n",
       "    <tr>\n",
       "      <th>...</th>\n",
       "      <td>...</td>\n",
       "      <td>...</td>\n",
       "      <td>...</td>\n",
       "      <td>...</td>\n",
       "      <td>...</td>\n",
       "      <td>...</td>\n",
       "    </tr>\n",
       "    <tr>\n",
       "      <th>231</th>\n",
       "      <td>1.0</td>\n",
       "      <td>850.0</td>\n",
       "      <td>722500.00</td>\n",
       "      <td>6.141250e+08</td>\n",
       "      <td>5.220062e+11</td>\n",
       "      <td>4.437053e+14</td>\n",
       "    </tr>\n",
       "    <tr>\n",
       "      <th>232</th>\n",
       "      <td>1.0</td>\n",
       "      <td>852.0</td>\n",
       "      <td>725904.00</td>\n",
       "      <td>6.184702e+08</td>\n",
       "      <td>5.269366e+11</td>\n",
       "      <td>4.489500e+14</td>\n",
       "    </tr>\n",
       "    <tr>\n",
       "      <th>233</th>\n",
       "      <td>1.0</td>\n",
       "      <td>850.0</td>\n",
       "      <td>722500.00</td>\n",
       "      <td>6.141250e+08</td>\n",
       "      <td>5.220062e+11</td>\n",
       "      <td>4.437053e+14</td>\n",
       "    </tr>\n",
       "    <tr>\n",
       "      <th>234</th>\n",
       "      <td>1.0</td>\n",
       "      <td>851.0</td>\n",
       "      <td>724201.00</td>\n",
       "      <td>6.162951e+08</td>\n",
       "      <td>5.244671e+11</td>\n",
       "      <td>4.463215e+14</td>\n",
       "    </tr>\n",
       "    <tr>\n",
       "      <th>235</th>\n",
       "      <td>1.0</td>\n",
       "      <td>848.0</td>\n",
       "      <td>719104.00</td>\n",
       "      <td>6.098002e+08</td>\n",
       "      <td>5.171106e+11</td>\n",
       "      <td>4.385098e+14</td>\n",
       "    </tr>\n",
       "  </tbody>\n",
       "</table>\n",
       "<p>236 rows × 6 columns</p>\n",
       "</div>"
      ],
      "text/plain": [
       "       0      1          2             3             4             5\n",
       "0    1.0   24.4     595.36  1.452678e+04  3.544535e+05  8.648666e+06\n",
       "1    1.0   34.8    1211.04  4.214419e+04  1.466618e+06  5.103830e+07\n",
       "2    1.0   44.1    1944.81  8.576612e+04  3.782286e+06  1.667988e+08\n",
       "3    1.0   45.1    2034.01  9.173385e+04  4.137197e+06  1.865876e+08\n",
       "4    1.0   55.0    3025.00  1.663750e+05  9.150625e+06  5.032844e+08\n",
       "..   ...    ...        ...           ...           ...           ...\n",
       "231  1.0  850.0  722500.00  6.141250e+08  5.220062e+11  4.437053e+14\n",
       "232  1.0  852.0  725904.00  6.184702e+08  5.269366e+11  4.489500e+14\n",
       "233  1.0  850.0  722500.00  6.141250e+08  5.220062e+11  4.437053e+14\n",
       "234  1.0  851.0  724201.00  6.162951e+08  5.244671e+11  4.463215e+14\n",
       "235  1.0  848.0  719104.00  6.098002e+08  5.171106e+11  4.385098e+14\n",
       "\n",
       "[236 rows x 6 columns]"
      ]
     },
     "execution_count": 16,
     "metadata": {},
     "output_type": "execute_result"
    }
   ],
   "source": [
    "X5"
   ]
  },
  {
   "cell_type": "code",
   "execution_count": 17,
   "metadata": {},
   "outputs": [],
   "source": [
    "#scaling features\n",
    "ss1=StandardScaler()\n",
    "X5_scaled=ss1.fit_transform(X5.iloc[:,1:])"
   ]
  },
  {
   "cell_type": "code",
   "execution_count": 18,
   "metadata": {},
   "outputs": [],
   "source": [
    "#Inserting columns of One\n",
    "X5_scaled.insert(loc=0,value=1.0,name='Ones')"
   ]
  },
  {
   "cell_type": "code",
   "execution_count": 19,
   "metadata": {},
   "outputs": [],
   "source": [
    "#Train -Test Split\n",
    "from cuml.model_selection import train_test_split\n",
    "X_train1,X_test1,Y_train1,Y_test1=train_test_split(X5_scaled,Y,test_size=0.30,random_state=42)"
   ]
  },
  {
   "cell_type": "code",
   "execution_count": 20,
   "metadata": {},
   "outputs": [],
   "source": [
    "#Finding beta's for 5th order hypothesis function\n",
    "A=X_train1.values.T.dot(X_train1.values)\n",
    "B=cupy.linalg.inv(A)\n",
    "C=B.dot(X_train1.values.T)\n",
    "beta1=C.dot(Y_train1.values)"
   ]
  },
  {
   "cell_type": "code",
   "execution_count": 21,
   "metadata": {},
   "outputs": [
    {
     "data": {
      "text/plain": [
       "array([  14.21778854,   50.92380085, -169.95617705,  274.20599143,\n",
       "       -216.87424495,   67.16997504])"
      ]
     },
     "execution_count": 21,
     "metadata": {},
     "output_type": "execute_result"
    }
   ],
   "source": [
    "beta1"
   ]
  },
  {
   "cell_type": "code",
   "execution_count": 22,
   "metadata": {},
   "outputs": [
    {
     "data": {
      "text/plain": [
       "0.9979841651699113"
      ]
     },
     "execution_count": 22,
     "metadata": {},
     "output_type": "execute_result"
    }
   ],
   "source": [
    "#prediciting and testing\n",
    "Y_predict1=X_test1.values.dot(beta1)\n",
    "from cuml import metrics\n",
    "metrics.r2_score(Y_test1,Y_predict1)"
   ]
  },
  {
   "cell_type": "raw",
   "metadata": {},
   "source": [
    "#Overfitting a model using a 50 order hypothesis function"
   ]
  },
  {
   "cell_type": "code",
   "execution_count": 23,
   "metadata": {},
   "outputs": [],
   "source": [
    "#Adding powers of input feature (0 to 50)\n",
    "from cuml.preprocessing import PolynomialFeatures\n",
    "pf=PolynomialFeatures(50)\n",
    "X50=pf.fit_transform(cudf.DataFrame(X))"
   ]
  },
  {
   "cell_type": "code",
   "execution_count": 24,
   "metadata": {},
   "outputs": [
    {
     "data": {
      "text/plain": [
       "(236, 51)"
      ]
     },
     "execution_count": 24,
     "metadata": {},
     "output_type": "execute_result"
    }
   ],
   "source": [
    "X50.shape"
   ]
  },
  {
   "cell_type": "code",
   "execution_count": 25,
   "metadata": {},
   "outputs": [],
   "source": [
    "#Scaling features\n",
    "ss1=StandardScaler()\n",
    "X50_scaled=ss1.fit_transform(X50.iloc[:,1:])"
   ]
  },
  {
   "cell_type": "code",
   "execution_count": 26,
   "metadata": {},
   "outputs": [],
   "source": [
    "#Inserting a column\n",
    "X50_scaled.insert(loc=0,value=1.0,name='Ones')"
   ]
  },
  {
   "cell_type": "code",
   "execution_count": 27,
   "metadata": {},
   "outputs": [],
   "source": [
    "#Train Test Split\n",
    "from cuml.model_selection import train_test_split\n",
    "X_train2,X_test2,Y_train2,Y_test2=train_test_split(X50_scaled,Y,test_size=0.30,random_state=42)"
   ]
  },
  {
   "cell_type": "code",
   "execution_count": 28,
   "metadata": {},
   "outputs": [],
   "source": [
    "#Finding beta's for 50 order hypothesis function\n",
    "A=X_train2.values.T.dot(X_train2.values)\n",
    "B=cupy.linalg.inv(A)\n",
    "C=B.dot(X_train2.values.T)\n",
    "beta2=C.dot(Y_train2.values)"
   ]
  },
  {
   "cell_type": "code",
   "execution_count": 29,
   "metadata": {},
   "outputs": [
    {
     "data": {
      "text/plain": [
       "-2.106049393274842"
      ]
     },
     "execution_count": 29,
     "metadata": {},
     "output_type": "execute_result"
    }
   ],
   "source": [
    "#Predicitng and testing\n",
    "Y_predict2=X_test2.values.dot(beta2)\n",
    "from cuml import metrics\n",
    "metrics.r2_score(Y_test2,Y_predict2)"
   ]
  },
  {
   "cell_type": "raw",
   "metadata": {},
   "source": [
    "Handling Overfitiing with Ridge Regression (Regularization)"
   ]
  },
  {
   "cell_type": "code",
   "execution_count": 30,
   "metadata": {},
   "outputs": [],
   "source": [
    "#finding beta's with ridge regression\n",
    "lamda=0.001\n",
    "A=X_train2.values.T.dot(X_train2.values)\n",
    "I=cupy.identity(A.shape[0])\n",
    "A1=cupy.add(A,lamda*I)\n",
    "B=cupy.linalg.inv(A1)\n",
    "C=B.dot(X_train2.values.T)\n",
    "beta3=C.dot(Y_train2.values)"
   ]
  },
  {
   "cell_type": "code",
   "execution_count": 31,
   "metadata": {},
   "outputs": [
    {
     "data": {
      "text/plain": [
       "0.9963337036942519"
      ]
     },
     "execution_count": 31,
     "metadata": {},
     "output_type": "execute_result"
    }
   ],
   "source": [
    "#Predicting and Testing the ridge regression model\n",
    "Y_predict3=X_test2.values.dot(beta3)\n",
    "from cuml import metrics\n",
    "metrics.r2_score(Y_test2,Y_predict3)"
   ]
  },
  {
   "cell_type": "code",
   "execution_count": 34,
   "metadata": {},
   "outputs": [],
   "source": [
    "#tuning the value of lamda (regularization parameter)\n",
    "lamda=[1e-7,1e-6,1e-5,1e-4,1e-3,1e-2,1e-1,1,10,100,1000]\n",
    "R2_score=[]\n",
    "for i in range(len(lamda)):\n",
    "    A=X_train2.values.T.dot(X_train2.values)\n",
    "    I=cupy.identity(A.shape[0])\n",
    "    A1=cupy.add(A,lamda[i]*I)\n",
    "    B=cupy.linalg.inv(A1)\n",
    "    C=B.dot(X_train2.values.T)\n",
    "    beta3=C.dot(Y_train2.values)\n",
    "    Y_predict3=X_test2.values.dot(beta3)\n",
    "    R2_score.append(metrics.r2_score(Y_test2,Y_predict3))"
   ]
  },
  {
   "cell_type": "code",
   "execution_count": 35,
   "metadata": {},
   "outputs": [
    {
     "data": {
      "text/plain": [
       "[0.9985898493350581,\n",
       " 0.998186592939224,\n",
       " 0.9980202066612831,\n",
       " 0.9980369922130834,\n",
       " 0.9963337036942519,\n",
       " 0.9881353456026424,\n",
       " 0.9629476699168672,\n",
       " 0.9079916332138837,\n",
       " 0.7605953829804118,\n",
       " -0.4148540643998686,\n",
       " -4.620807822568909]"
      ]
     },
     "execution_count": 35,
     "metadata": {},
     "output_type": "execute_result"
    }
   ],
   "source": [
    "R2_score\n"
   ]
  },
  {
   "cell_type": "code",
   "execution_count": null,
   "metadata": {},
   "outputs": [],
   "source": []
  }
 ],
 "metadata": {
  "kernelspec": {
   "display_name": "Python 3",
   "language": "python",
   "name": "python3"
  },
  "language_info": {
   "codemirror_mode": {
    "name": "ipython",
    "version": 3
   },
   "file_extension": ".py",
   "mimetype": "text/x-python",
   "name": "python",
   "nbconvert_exporter": "python",
   "pygments_lexer": "ipython3",
   "version": "3.7.3"
  }
 },
 "nbformat": 4,
 "nbformat_minor": 5
}
