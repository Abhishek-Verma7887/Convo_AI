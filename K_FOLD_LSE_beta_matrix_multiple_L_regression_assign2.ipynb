{
 "cells": [
  {
   "cell_type": "code",
   "execution_count": 34,
   "id": "bf7fdfb0-cd00-4149-a780-f507217afb70",
   "metadata": {},
   "outputs": [
    {
     "ename": "SyntaxError",
     "evalue": "EOL while scanning string literal (<ipython-input-34-6dfc643af005>, line 1)",
     "output_type": "error",
     "traceback": [
      "\u001b[0;36m  File \u001b[0;32m\"<ipython-input-34-6dfc643af005>\"\u001b[0;36m, line \u001b[0;32m1\u001b[0m\n\u001b[0;31m    df=pd.read_csv('USA_Housing.csv’)\u001b[0m\n\u001b[0m                                     ^\u001b[0m\n\u001b[0;31mSyntaxError\u001b[0m\u001b[0;31m:\u001b[0m EOL while scanning string literal\n"
     ]
    }
   ],
   "source": [
    "df=pd.read_csv('USA_Housing.csv’)"
   ]
  },
  {
   "cell_type": "code",
   "execution_count": 35,
   "id": "a5d9df74-521e-4627-b45c-2f3c753f1584",
   "metadata": {},
   "outputs": [
    {
     "data": {
      "text/html": [
       "<div>\n",
       "<style scoped>\n",
       "    .dataframe tbody tr th:only-of-type {\n",
       "        vertical-align: middle;\n",
       "    }\n",
       "\n",
       "    .dataframe tbody tr th {\n",
       "        vertical-align: top;\n",
       "    }\n",
       "\n",
       "    .dataframe thead th {\n",
       "        text-align: right;\n",
       "    }\n",
       "</style>\n",
       "<table border=\"1\" class=\"dataframe\">\n",
       "  <thead>\n",
       "    <tr style=\"text-align: right;\">\n",
       "      <th></th>\n",
       "      <th>Avg. Area Income</th>\n",
       "      <th>Avg. Area House Age</th>\n",
       "      <th>Avg. Area Number of Rooms</th>\n",
       "      <th>Avg. Area Number of Bedrooms</th>\n",
       "      <th>Area Population</th>\n",
       "      <th>Price</th>\n",
       "    </tr>\n",
       "  </thead>\n",
       "  <tbody>\n",
       "    <tr>\n",
       "      <th>0</th>\n",
       "      <td>79545.45857</td>\n",
       "      <td>5.682861</td>\n",
       "      <td>7.009188</td>\n",
       "      <td>4.09</td>\n",
       "      <td>23086.80050</td>\n",
       "      <td>1.059034e+06</td>\n",
       "    </tr>\n",
       "    <tr>\n",
       "      <th>1</th>\n",
       "      <td>79248.64245</td>\n",
       "      <td>6.002900</td>\n",
       "      <td>6.730821</td>\n",
       "      <td>3.09</td>\n",
       "      <td>40173.07217</td>\n",
       "      <td>1.505891e+06</td>\n",
       "    </tr>\n",
       "    <tr>\n",
       "      <th>2</th>\n",
       "      <td>61287.06718</td>\n",
       "      <td>5.865890</td>\n",
       "      <td>8.512727</td>\n",
       "      <td>5.13</td>\n",
       "      <td>36882.15940</td>\n",
       "      <td>1.058988e+06</td>\n",
       "    </tr>\n",
       "    <tr>\n",
       "      <th>3</th>\n",
       "      <td>63345.24005</td>\n",
       "      <td>7.188236</td>\n",
       "      <td>5.586729</td>\n",
       "      <td>3.26</td>\n",
       "      <td>34310.24283</td>\n",
       "      <td>1.260617e+06</td>\n",
       "    </tr>\n",
       "    <tr>\n",
       "      <th>4</th>\n",
       "      <td>59982.19723</td>\n",
       "      <td>5.040555</td>\n",
       "      <td>7.839388</td>\n",
       "      <td>4.23</td>\n",
       "      <td>26354.10947</td>\n",
       "      <td>6.309435e+05</td>\n",
       "    </tr>\n",
       "  </tbody>\n",
       "</table>\n",
       "</div>"
      ],
      "text/plain": [
       "   Avg. Area Income  Avg. Area House Age  Avg. Area Number of Rooms  \\\n",
       "0       79545.45857             5.682861                   7.009188   \n",
       "1       79248.64245             6.002900                   6.730821   \n",
       "2       61287.06718             5.865890                   8.512727   \n",
       "3       63345.24005             7.188236                   5.586729   \n",
       "4       59982.19723             5.040555                   7.839388   \n",
       "\n",
       "   Avg. Area Number of Bedrooms  Area Population         Price  \n",
       "0                          4.09      23086.80050  1.059034e+06  \n",
       "1                          3.09      40173.07217  1.505891e+06  \n",
       "2                          5.13      36882.15940  1.058988e+06  \n",
       "3                          3.26      34310.24283  1.260617e+06  \n",
       "4                          4.23      26354.10947  6.309435e+05  "
      ]
     },
     "execution_count": 35,
     "metadata": {},
     "output_type": "execute_result"
    }
   ],
   "source": [
    "import pandas as pd\n",
    "df=pd.read_csv(\"USA_Housing.csv\")\n",
    "df.head()"
   ]
  },
  {
   "cell_type": "code",
   "execution_count": 36,
   "id": "40fe1ba2-737a-4ef2-99d9-2c51f6785776",
   "metadata": {},
   "outputs": [
    {
     "name": "stdout",
     "output_type": "stream",
     "text": [
      "<class 'pandas.core.frame.DataFrame'>\n",
      "RangeIndex: 5000 entries, 0 to 4999\n",
      "Data columns (total 6 columns):\n",
      " #   Column                        Non-Null Count  Dtype  \n",
      "---  ------                        --------------  -----  \n",
      " 0   Avg. Area Income              5000 non-null   float64\n",
      " 1   Avg. Area House Age           5000 non-null   float64\n",
      " 2   Avg. Area Number of Rooms     5000 non-null   float64\n",
      " 3   Avg. Area Number of Bedrooms  5000 non-null   float64\n",
      " 4   Area Population               5000 non-null   float64\n",
      " 5   Price                         5000 non-null   float64\n",
      "dtypes: float64(6)\n",
      "memory usage: 234.5 KB\n"
     ]
    }
   ],
   "source": [
    "df.info()"
   ]
  },
  {
   "cell_type": "code",
   "execution_count": 37,
   "id": "e3cb5c2e-ccb5-4bf9-b868-762ad5063a9b",
   "metadata": {},
   "outputs": [
    {
     "ename": "AttributeError",
     "evalue": "module 'matplotlib' has no attribute 'missingno'",
     "output_type": "error",
     "traceback": [
      "\u001b[0;31m---------------------------------------------------------------------------\u001b[0m",
      "\u001b[0;31mAttributeError\u001b[0m                            Traceback (most recent call last)",
      "\u001b[0;32m<ipython-input-37-635f1fcab243>\u001b[0m in \u001b[0;36m<module>\u001b[0;34m\u001b[0m\n\u001b[1;32m      1\u001b[0m \u001b[0;31m#!pip install missingno\u001b[0m\u001b[0;34m\u001b[0m\u001b[0;34m\u001b[0m\u001b[0;34m\u001b[0m\u001b[0m\n\u001b[1;32m      2\u001b[0m \u001b[0;32mimport\u001b[0m \u001b[0mmatplotlib\u001b[0m\u001b[0;34m\u001b[0m\u001b[0;34m\u001b[0m\u001b[0m\n\u001b[0;32m----> 3\u001b[0;31m \u001b[0mmatplotlib\u001b[0m\u001b[0;34m.\u001b[0m\u001b[0mmissingno\u001b[0m\u001b[0;34m.\u001b[0m\u001b[0mbar\u001b[0m\u001b[0;34m(\u001b[0m\u001b[0mdf\u001b[0m\u001b[0;34m)\u001b[0m\u001b[0;34m\u001b[0m\u001b[0;34m\u001b[0m\u001b[0m\n\u001b[0m",
      "\u001b[0;31mAttributeError\u001b[0m: module 'matplotlib' has no attribute 'missingno'"
     ]
    }
   ],
   "source": [
    "#!pip install missingno\n",
    "import matplotlib\n",
    "matplotlib.missingno.bar(df)"
   ]
  },
  {
   "cell_type": "code",
   "execution_count": 38,
   "id": "93ffd5be-68a7-4243-b977-9c0ccaefa577",
   "metadata": {},
   "outputs": [
    {
     "data": {
      "text/plain": [
       "<AxesSubplot:>"
      ]
     },
     "execution_count": 38,
     "metadata": {},
     "output_type": "execute_result"
    },
    {
     "data": {
      "image/png": "[encoded data removed]",
      "text/plain": [
       "<Figure size 432x288 with 2 Axes>"
      ]
     },
     "metadata": {
      "needs_background": "light"
     },
     "output_type": "display_data"
    }
   ],
   "source": [
    "import seaborn as sns\n",
    "sns.heatmap(df.iloc[:,0:5].corr(),annot=True)"
   ]
  },
  {
   "cell_type": "code",
   "execution_count": 39,
   "id": "1dd35b4b-4c6a-484f-b310-ba1736ffc9e7",
   "metadata": {},
   "outputs": [],
   "source": [
    "import numpy as np\n",
    "X=df.iloc[:,0:5]\n",
    "Y=df.iloc[:,5]\n",
    "Y=np.array(Y)\n",
    "Y=Y.reshape(-1,1)\n",
    "from sklearn.preprocessing import StandardScaler\n",
    "scaler=StandardScaler()\n",
    "X_scaled=scaler.fit_transform(X)\n",
    "X_scaled= np.insert(X_scaled, 0, values=1, axis=1)"
   ]
  },
  {
   "cell_type": "code",
   "execution_count": 65,
   "id": "58928fcb-4aba-466a-a5c4-649db81c4fc7",
   "metadata": {},
   "outputs": [
    {
     "name": "stdout",
     "output_type": "stream",
     "text": [
      "5000\n"
     ]
    }
   ],
   "source": [
    "print(len(X_scaled))"
   ]
  },
  {
   "cell_type": "code",
   "execution_count": 41,
   "id": "a6cda894-0b65-44e0-a876-5abd9bc652f8",
   "metadata": {},
   "outputs": [
    {
     "data": {
      "text/plain": [
       "array([[ 1.        ,  1.02865969, -0.29692705,  0.02127433,  0.08806222,\n",
       "        -1.31759867],\n",
       "       [ 1.        ,  1.00080775,  0.02590164, -0.25550611, -0.72230146,\n",
       "         0.40399945],\n",
       "       [ 1.        , -0.68462915, -0.11230283,  1.5162435 ,  0.93084045,\n",
       "         0.07240989],\n",
       "       ...,\n",
       "       [ 1.        , -0.48723454,  1.28447022, -2.17026949, -1.50025059,\n",
       "        -0.29193658],\n",
       "       [ 1.        , -0.05459152, -0.44669439,  0.14154061,  1.18205319,\n",
       "         0.65111608],\n",
       "       [ 1.        , -0.28831272,  0.01521477, -0.19434166,  0.07185495,\n",
       "         1.04162464]])"
      ]
     },
     "execution_count": 41,
     "metadata": {},
     "output_type": "execute_result"
    }
   ],
   "source": [
    "X_scaled"
   ]
  },
  {
   "cell_type": "code",
   "execution_count": 42,
   "id": "1ec831d3-bfd5-487c-a21e-f4be95e5e409",
   "metadata": {},
   "outputs": [],
   "source": [
    "from sklearn.model_selection import train_test_split\n",
    "X_train, X_test, y_train, y_test = train_test_split(X_scaled, Y, test_size=0.3, random_state=42)"
   ]
  },
  {
   "cell_type": "code",
   "execution_count": 43,
   "id": "f8c6fa0b-7fe7-4d4b-b609-cb6d11efafa1",
   "metadata": {},
   "outputs": [],
   "source": [
    "n,k=X_train.shape\n",
    "I=np.identity(k)\n",
    "lamba=0.001\n",
    "A=X_train.T.dot(X_train)\n",
    "B=A+lamba*I\n",
    "C=np.linalg.inv(B)\n",
    "D=C.dot(X_train.T)\n",
    "beta=D.dot(y_train)"
   ]
  },
  {
   "cell_type": "code",
   "execution_count": 44,
   "id": "e34898c2-c6e7-4976-8488-8f6a5f3c4ca3",
   "metadata": {},
   "outputs": [
    {
     "name": "stdout",
     "output_type": "stream",
     "text": [
      "[[1308535.74658553]\n",
      " [1237122.35082543]\n",
      " [1243835.23921935]\n",
      " ...\n",
      " [1457119.34964292]\n",
      " [1483428.51890416]\n",
      " [1047510.27589634]]\n"
     ]
    }
   ],
   "source": [
    "y_predict=X_test.dot(beta)\n",
    "print(y_predict)"
   ]
  },
  {
   "cell_type": "code",
   "execution_count": 45,
   "id": "8bc06f16-2ff8-4f78-bed2-36e21d945680",
   "metadata": {},
   "outputs": [
    {
     "name": "stdout",
     "output_type": "stream",
     "text": [
      "mse: \n",
      "10068424365.066883\n",
      "rms: \n",
      "100341.53858231836\n",
      "R2 score: \n",
      "0.9146818345067763\n"
     ]
    }
   ],
   "source": [
    "error=y_test-y_predict\n",
    "square_error=np.power(error,2)\n",
    "sum_square_error=np.sum(square_error)\n",
    "mean_square_error=sum_square_error/len(y_predict)\n",
    "print(\"mse: \")\n",
    "print(mean_square_error)\n",
    "rms_error=np.sqrt(mean_square_error)\n",
    "print(\"rms: \")\n",
    "print(rms_error)\n",
    "y_mean=np.mean(y_test)\n",
    "total_variance=np.sum((y_test-y_mean)**2)\n",
    "print(\"R2 score: \")\n",
    "print(1-sum_square_error/total_variance)"
   ]
  },
  {
   "cell_type": "code",
   "execution_count": 46,
   "id": "22ab7dd2-bd71-4850-b639-4125ad97974c",
   "metadata": {},
   "outputs": [
    {
     "name": "stdout",
     "output_type": "stream",
     "text": [
      "10068422549.495705\n",
      "81135.56608241772\n",
      "100341.52953536091\n",
      "0.9146818498916267\n"
     ]
    }
   ],
   "source": [
    "from sklearn.linear_model import LinearRegression\n",
    "model=LinearRegression()\n",
    "model.fit(X_train,y_train)\n",
    "pred=model.predict(X_test)\n",
    "from sklearn import metrics\n",
    "print(metrics.mean_squared_error(pred,y_test))\n",
    "print(metrics.mean_absolute_error(pred,y_test))\n",
    "print(np.sqrt(metrics.mean_squared_error(pred,y_test)))\n",
    "print(metrics.r2_score(y_test, pred))"
   ]
  },
  {
   "cell_type": "code",
   "execution_count": 47,
   "id": "a3640df2-978f-472a-9fe9-a5d0f28cecfe",
   "metadata": {},
   "outputs": [
    {
     "data": {
      "text/plain": [
       "array([[1231278.28404984],\n",
       "       [ 230464.45918853],\n",
       "       [ 164159.15066291],\n",
       "       [ 120514.66685039],\n",
       "       [   2913.64762867],\n",
       "       [ 151019.30962278]])"
      ]
     },
     "execution_count": 47,
     "metadata": {},
     "output_type": "execute_result"
    }
   ],
   "source": [
    "beta\n"
   ]
  },
  {
   "cell_type": "code",
   "execution_count": 70,
   "id": "cbf0d77c-5350-4dfa-b9d9-b886a55a891c",
   "metadata": {},
   "outputs": [],
   "source": [
    "def k_fold(k):\n",
    "    list_sz=len(Y)\n",
    "    print(list_sz)\n",
    "    block=list_sz/k\n",
    "    total_data=[]\n",
    "    y_total=[]\n",
    "    temp_data=[]\n",
    "    t=0\n",
    "    for i in range(k):\n",
    "        a=0\n",
    "        temp_X=[]\n",
    "        temp_Y=[]\n",
    "        while a<block:\n",
    "            temp_X.append(X_scaled[t])\n",
    "            temp_Y.append(Y[t])\n",
    "            t=t+1\n",
    "            a=a+1\n",
    "        t=t-1\n",
    "        total_data.append(temp_X)\n",
    "        y_total.append(temp_Y)\n",
    "    \n",
    "    #print(total_data.shape)\n",
    "    #print(y_total.shape)\n",
    "    validation_accu=[]\n",
    "    \n",
    "    initial_r_score=-10000000.0\n",
    "    beta_final=[]\n",
    "    beta_final=np.asarray(beta_final)\n",
    "    for i in range(k):\n",
    "        new_list_3=[]\n",
    "        y_3=[]\n",
    "        test_y=[]\n",
    "        test_x=[]\n",
    "        for j in range(k):\n",
    "            if i!=j:\n",
    "                for p in range(len(total_data[j])):\n",
    "                    new_list_3.append(total_data[j][p])\n",
    "                    y_3.append(y_total[j][p])\n",
    "            else:\n",
    "                for p in range(len(total_data[j])):\n",
    "                    test_x.append(total_data[j][p])\n",
    "                    test_y.append(y_total[j][p])\n",
    "        \n",
    "        test_y= np.asarray(test_y)\n",
    "        test_x= np.asarray(test_x)\n",
    "        new_list_3= np.asarray(new_list_3)\n",
    "        y_3= np.asarray(y_3)\n",
    "        \n",
    "        #validation_accu.append(model_run(new_list_3,y_3,test_x,test_y))\n",
    "        \n",
    "        n,K=new_list_3.shape\n",
    "        I=np.identity(K)\n",
    "        lamba=0.001\n",
    "        A=new_list_3.T.dot(new_list_3)\n",
    "        B=A+lamba*I\n",
    "        C=np.linalg.inv(B)\n",
    "        D=C.dot(new_list_3.T)\n",
    "        beta=D.dot(y_3)\n",
    "        \n",
    "        y_predict=test_x.dot(beta)\n",
    "        \n",
    "        error=test_y-y_predict\n",
    "        square_error=np.power(error,2)\n",
    "        sum_square_error=np.sum(square_error)\n",
    "        mean_square_error=sum_square_error/len(y_predict)\n",
    "        rms_error=np.sqrt(mean_square_error)\n",
    "        y_mean=np.mean(test_y)\n",
    "        total_variance=np.sum((test_y-y_mean)**2)\n",
    "        print(\"R2 my score: \")\n",
    "        cur_r_sc=1-sum_square_error/total_variance\n",
    "        print(1-sum_square_error/total_variance)\n",
    "        \n",
    "        if cur_r_sc > initial_r_score:\n",
    "            beta_final=beta\n",
    "                            \n",
    "        #print(validation_accu)\n",
    "        \n",
    "    return beta_final\n"
   ]
  },
  {
   "cell_type": "code",
   "execution_count": 71,
   "id": "8991295d-2aaf-49f1-88f5-ea68e8b070ce",
   "metadata": {},
   "outputs": [
    {
     "name": "stdout",
     "output_type": "stream",
     "text": [
      "5000\n",
      "R2 my score: \n",
      "0.91759170690439\n",
      "R2 my score: \n",
      "0.9204127123357685\n",
      "R2 my score: \n",
      "0.9148602972195872\n",
      "R2 my score: \n",
      "0.9210685665502336\n",
      "R2 my score: \n",
      "0.9136335956093927\n"
     ]
    }
   ],
   "source": [
    "new_beta= k_fold(5)"
   ]
  },
  {
   "cell_type": "code",
   "execution_count": 72,
   "id": "79a739c1-dbc0-4a83-91fa-9c5974b725d4",
   "metadata": {},
   "outputs": [],
   "source": [
    "from sklearn.model_selection import train_test_split\n",
    "X_train, X_test, y_train, y_test = train_test_split(X_scaled, Y, test_size=0.3, random_state=42)"
   ]
  },
  {
   "cell_type": "code",
   "execution_count": 73,
   "id": "9f884349-9d2c-4c30-9ff1-6adec203913a",
   "metadata": {},
   "outputs": [
    {
     "name": "stdout",
     "output_type": "stream",
     "text": [
      "[[1308931.339646  ]\n",
      " [1238415.16841335]\n",
      " [1248116.9283523 ]\n",
      " ...\n",
      " [1459428.96572173]\n",
      " [1481005.06910866]\n",
      " [1053538.38167095]]\n"
     ]
    }
   ],
   "source": [
    "y_predict=X_test.dot(new_beta)\n",
    "print(y_predict)"
   ]
  },
  {
   "cell_type": "code",
   "execution_count": 74,
   "id": "1901f553-6e33-4be1-a015-8586a04c3aa2",
   "metadata": {},
   "outputs": [
    {
     "name": "stdout",
     "output_type": "stream",
     "text": [
      "mse: \n",
      "10056241952.064686\n",
      "rms: \n",
      "100280.81547367216\n",
      "R2 score: \n",
      "0.9147850662629023\n"
     ]
    }
   ],
   "source": [
    "error=y_test-y_predict\n",
    "square_error=np.power(error,2)\n",
    "sum_square_error=np.sum(square_error)\n",
    "mean_square_error=sum_square_error/len(y_predict)\n",
    "print(\"mse: \")\n",
    "print(mean_square_error)\n",
    "rms_error=np.sqrt(mean_square_error)\n",
    "print(\"rms: \")\n",
    "print(rms_error)\n",
    "y_mean=np.mean(y_test)\n",
    "total_variance=np.sum((y_test-y_mean)**2)\n",
    "print(\"R2 score: \")\n",
    "print(1-sum_square_error/total_variance)"
   ]
  },
  {
   "cell_type": "code",
   "execution_count": null,
   "id": "21ceeee0-5396-404e-9b2c-1147ebf44360",
   "metadata": {},
   "outputs": [],
   "source": []
  }
 ],
 "metadata": {
  "kernelspec": {
   "display_name": "Python 3",
   "language": "python",
   "name": "python3"
  },
  "language_info": {
   "codemirror_mode": {
    "name": "ipython",
    "version": 3
   },
   "file_extension": ".py",
   "mimetype": "text/x-python",
   "name": "python",
   "nbconvert_exporter": "python",
   "pygments_lexer": "ipython3",
   "version": "3.7.10"
  }
 },
 "nbformat": 4,
 "nbformat_minor": 5
}
