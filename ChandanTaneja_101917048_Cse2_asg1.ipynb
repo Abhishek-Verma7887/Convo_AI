{
 "cells": [
  {
   "cell_type": "code",
   "execution_count": 3,
   "id": "dc5ce4df",
   "metadata": {},
   "outputs": [
    {
     "name": "stdout",
     "output_type": "stream",
     "text": [
      "Requirement already satisfied: nltk in c:\\users\\lenovo\\appdata\\local\\programs\\python\\python39\\lib\\site-packages (3.6.5)\n",
      "Requirement already satisfied: click in c:\\users\\lenovo\\appdata\\local\\programs\\python\\python39\\lib\\site-packages (from nltk) (8.0.3)\n",
      "Requirement already satisfied: joblib in c:\\users\\lenovo\\appdata\\roaming\\python\\python39\\site-packages (from nltk) (1.0.1)\n",
      "Requirement already satisfied: tqdm in c:\\users\\lenovo\\appdata\\local\\programs\\python\\python39\\lib\\site-packages (from nltk) (4.62.3)\n",
      "Requirement already satisfied: regex>=2021.8.3 in c:\\users\\lenovo\\appdata\\local\\programs\\python\\python39\\lib\\site-packages (from nltk) (2021.10.8)\n",
      "Requirement already satisfied: colorama in c:\\users\\lenovo\\appdata\\local\\programs\\python\\python39\\lib\\site-packages (from click->nltk) (0.4.4)\n"
     ]
    }
   ],
   "source": [
    "!pip install nltk"
   ]
  },
  {
   "cell_type": "code",
   "execution_count": 4,
   "id": "37a387a3",
   "metadata": {},
   "outputs": [],
   "source": [
    "import nltk"
   ]
  },
  {
   "cell_type": "code",
   "execution_count": 21,
   "id": "1b872761",
   "metadata": {},
   "outputs": [
    {
     "name": "stdout",
     "output_type": "stream",
     "text": [
      "<_io.TextIOWrapper name='D:/tiet5/elective/files/asg1/1.txt' mode='r' encoding='cp1252'>\n",
      "<_io.TextIOWrapper name='D:/tiet5/elective/files/asg1/2.txt' mode='r' encoding='cp1252'>\n",
      "['I have conversational ai.\\nmy seubject is ai.', 'conversational ai is branch of science.\\n']\n"
     ]
    }
   ],
   "source": [
    "import os\n",
    "filenames=os.listdir('D:/tiet5/elective/files/asg1/') #list of files in that directory\n",
    "content=[]\n",
    "for i in range(len(filenames)):\n",
    "    f=open('D:/tiet5/elective/files/asg1/'+filenames[i],'r')\n",
    "    print(f)\n",
    "    text=f.read()\n",
    "    content.append(text)\n",
    "    f.close()\n",
    "print(content)"
   ]
  },
  {
   "cell_type": "markdown",
   "id": "a09ba2ab",
   "metadata": {},
   "source": [
    "**Inbuilt Function**"
   ]
  },
  {
   "cell_type": "code",
   "execution_count": 9,
   "id": "8ebbd640",
   "metadata": {},
   "outputs": [],
   "source": [
    "from nltk.corpus import PlaintextCorpusReader"
   ]
  },
  {
   "cell_type": "code",
   "execution_count": 11,
   "id": "c9a9bbbb",
   "metadata": {},
   "outputs": [],
   "source": [
    "a=PlaintextCorpusReader('D:/tiet5/elective/files/asg1/','.*')"
   ]
  },
  {
   "cell_type": "code",
   "execution_count": 20,
   "id": "1fa6f2ce",
   "metadata": {},
   "outputs": [
    {
     "data": {
      "text/plain": [
       "'I have conversational ai.\\r\\nmy seubject is ai.conversational ai is branch of science.\\r\\n'"
      ]
     },
     "execution_count": 20,
     "metadata": {},
     "output_type": "execute_result"
    }
   ],
   "source": [
    "a.raw()"
   ]
  },
  {
   "cell_type": "code",
   "execution_count": 12,
   "id": "5d91cf88",
   "metadata": {},
   "outputs": [
    {
     "data": {
      "text/plain": [
       "['1.txt', '2.txt']"
      ]
     },
     "execution_count": 12,
     "metadata": {},
     "output_type": "execute_result"
    }
   ],
   "source": [
    "a.fileids()"
   ]
  },
  {
   "cell_type": "code",
   "execution_count": 13,
   "id": "4edfd77f",
   "metadata": {
    "scrolled": true
   },
   "outputs": [
    {
     "data": {
      "text/plain": [
       "['I', 'have', 'conversational', 'ai', '.', 'my', ...]"
      ]
     },
     "execution_count": 13,
     "metadata": {},
     "output_type": "execute_result"
    }
   ],
   "source": [
    "a.words()"
   ]
  },
  {
   "cell_type": "code",
   "execution_count": 18,
   "id": "920bd8a1",
   "metadata": {},
   "outputs": [
    {
     "data": {
      "text/plain": [
       "[['I', 'have', 'conversational', 'ai', '.'], ['my', 'seubject', 'is', 'ai', '.'], ...]"
      ]
     },
     "execution_count": 18,
     "metadata": {},
     "output_type": "execute_result"
    }
   ],
   "source": [
    "a.sents()"
   ]
  },
  {
   "cell_type": "code",
   "execution_count": 14,
   "id": "3f5397dd",
   "metadata": {},
   "outputs": [
    {
     "name": "stdout",
     "output_type": "stream",
     "text": [
      "['I have conversational ai.\\r\\nmy seubject is ai.', 'conversational ai is branch of science.\\r\\n']\n"
     ]
    }
   ],
   "source": [
    "content1=[]\n",
    "for i in range(len(a.fileids())):\n",
    "    content1.append(''.join(a.raw(fileids=a.fileids()[i])))\n",
    "print(content1)"
   ]
  },
  {
   "cell_type": "code",
   "execution_count": 15,
   "id": "9e89fbb1",
   "metadata": {},
   "outputs": [
    {
     "name": "stdout",
     "output_type": "stream",
     "text": [
      "['i have conversational my seubject is', 'conversational ai is branch of']\n"
     ]
    }
   ],
   "source": [
    "import nltk\n",
    "normalize=[]\n",
    "\n",
    "for i in range(len(content)):\n",
    "    normalize.append(' '.join([word.lower() for word in content[i].split() if word.isalpha()]))\n",
    "print(normalize)"
   ]
  },
  {
   "cell_type": "code",
   "execution_count": 16,
   "id": "600293fa",
   "metadata": {},
   "outputs": [],
   "source": [
    "from nltk import word_tokenize"
   ]
  },
  {
   "cell_type": "code",
   "execution_count": 23,
   "id": "dfa431a2",
   "metadata": {},
   "outputs": [
    {
     "name": "stderr",
     "output_type": "stream",
     "text": [
      "[nltk_data] Downloading package punkt to\n",
      "[nltk_data]     C:\\Users\\lenovo\\AppData\\Roaming\\nltk_data...\n",
      "[nltk_data]   Package punkt is already up-to-date!\n"
     ]
    },
    {
     "data": {
      "text/plain": [
       "True"
      ]
     },
     "execution_count": 23,
     "metadata": {},
     "output_type": "execute_result"
    }
   ],
   "source": [
    "nltk.download('punkt')"
   ]
  },
  {
   "cell_type": "code",
   "execution_count": 24,
   "id": "202c7d7b",
   "metadata": {},
   "outputs": [
    {
     "name": "stdout",
     "output_type": "stream",
     "text": [
      "[['i', 'have', 'conversational', 'my', 'seubject', 'is'], ['conversational', 'ai', 'is', 'branch', 'of']]\n"
     ]
    }
   ],
   "source": [
    "tokenize=[]\n",
    "for i in range(len(normalize)):\n",
    "    tokenize.append(nltk.word_tokenize(normalize[i]))\n",
    "print(tokenize)"
   ]
  },
  {
   "cell_type": "code",
   "execution_count": 25,
   "id": "e6615324",
   "metadata": {},
   "outputs": [
    {
     "name": "stderr",
     "output_type": "stream",
     "text": [
      "[nltk_data] Downloading package stopwords to\n",
      "[nltk_data]     C:\\Users\\lenovo\\AppData\\Roaming\\nltk_data...\n",
      "[nltk_data]   Unzipping corpora\\stopwords.zip.\n"
     ]
    },
    {
     "data": {
      "text/plain": [
       "True"
      ]
     },
     "execution_count": 25,
     "metadata": {},
     "output_type": "execute_result"
    }
   ],
   "source": [
    "nltk.download('stopwords')"
   ]
  },
  {
   "cell_type": "code",
   "execution_count": 26,
   "id": "bda972fd",
   "metadata": {},
   "outputs": [
    {
     "name": "stdout",
     "output_type": "stream",
     "text": [
      "['i', 'me', 'my', 'myself', 'we', 'our', 'ours', 'ourselves', 'you', \"you're\", \"you've\", \"you'll\", \"you'd\", 'your', 'yours', 'yourself', 'yourselves', 'he', 'him', 'his', 'himself', 'she', \"she's\", 'her', 'hers', 'herself', 'it', \"it's\", 'its', 'itself', 'they', 'them', 'their', 'theirs', 'themselves', 'what', 'which', 'who', 'whom', 'this', 'that', \"that'll\", 'these', 'those', 'am', 'is', 'are', 'was', 'were', 'be', 'been', 'being', 'have', 'has', 'had', 'having', 'do', 'does', 'did', 'doing', 'a', 'an', 'the', 'and', 'but', 'if', 'or', 'because', 'as', 'until', 'while', 'of', 'at', 'by', 'for', 'with', 'about', 'against', 'between', 'into', 'through', 'during', 'before', 'after', 'above', 'below', 'to', 'from', 'up', 'down', 'in', 'out', 'on', 'off', 'over', 'under', 'again', 'further', 'then', 'once', 'here', 'there', 'when', 'where', 'why', 'how', 'all', 'any', 'both', 'each', 'few', 'more', 'most', 'other', 'some', 'such', 'no', 'nor', 'not', 'only', 'own', 'same', 'so', 'than', 'too', 'very', 's', 't', 'can', 'will', 'just', 'don', \"don't\", 'should', \"should've\", 'now', 'd', 'll', 'm', 'o', 're', 've', 'y', 'ain', 'aren', \"aren't\", 'couldn', \"couldn't\", 'didn', \"didn't\", 'doesn', \"doesn't\", 'hadn', \"hadn't\", 'hasn', \"hasn't\", 'haven', \"haven't\", 'isn', \"isn't\", 'ma', 'mightn', \"mightn't\", 'mustn', \"mustn't\", 'needn', \"needn't\", 'shan', \"shan't\", 'shouldn', \"shouldn't\", 'wasn', \"wasn't\", 'weren', \"weren't\", 'won', \"won't\", 'wouldn', \"wouldn't\"]\n"
     ]
    }
   ],
   "source": [
    "import nltk\n",
    "from nltk.corpus import *\n",
    "stopword_list=nltk.corpus.stopwords.words(fileids='english')\n",
    "print(stopword_list)"
   ]
  },
  {
   "cell_type": "code",
   "execution_count": 27,
   "id": "5eb98d34",
   "metadata": {},
   "outputs": [
    {
     "name": "stdout",
     "output_type": "stream",
     "text": [
      "[['conversational', 'seubject'], ['conversational', 'ai', 'branch']]\n"
     ]
    }
   ],
   "source": [
    "nostop=[]\n",
    "for i in range(len(tokenize)):\n",
    "    nostop.append([word for word in tokenize[i] if word not in stopword_list])\n",
    "print(nostop)"
   ]
  },
  {
   "cell_type": "code",
   "execution_count": 28,
   "id": "e8c45c00",
   "metadata": {},
   "outputs": [
    {
     "name": "stdout",
     "output_type": "stream",
     "text": [
      "['convers seubject', 'convers ai branch']\n"
     ]
    }
   ],
   "source": [
    "from nltk.stem import PorterStemmer\n",
    "ps=PorterStemmer()\n",
    "final=[]\n",
    "for i in range(len(nostop)):\n",
    "    final.append(' '.join([ps.stem(word) for word in nostop[i]]))\n",
    "print(final)"
   ]
  },
  {
   "cell_type": "code",
   "execution_count": 29,
   "id": "c61f0c02",
   "metadata": {},
   "outputs": [
    {
     "name": "stdout",
     "output_type": "stream",
     "text": [
      "[[0 0 1 1]\n",
      " [1 1 1 0]]\n",
      "['ai', 'branch', 'convers', 'seubject']\n"
     ]
    },
    {
     "name": "stderr",
     "output_type": "stream",
     "text": [
      "C:\\Users\\lenovo\\AppData\\Roaming\\Python\\Python39\\site-packages\\sklearn\\utils\\deprecation.py:87: FutureWarning: Function get_feature_names is deprecated; get_feature_names is deprecated in 1.0 and will be removed in 1.2. Please use get_feature_names_out instead.\n",
      "  warnings.warn(msg, category=FutureWarning)\n"
     ]
    }
   ],
   "source": [
    "from sklearn.feature_extraction.text import CountVectorizer\n",
    "cv=CountVectorizer()\n",
    "X=cv.fit_transform(final)\n",
    "print(X.toarray())\n",
    "print(cv.get_feature_names())"
   ]
  },
  {
   "cell_type": "code",
   "execution_count": 31,
   "id": "2745a40a",
   "metadata": {},
   "outputs": [],
   "source": [
    "import pandas as pd\n",
    "bow=pd.DataFrame(data=X.toarray(),columns=cv.get_feature_names(),index=filenames)"
   ]
  },
  {
   "cell_type": "code",
   "execution_count": 32,
   "id": "b7d7ee67",
   "metadata": {},
   "outputs": [
    {
     "name": "stdout",
     "output_type": "stream",
     "text": [
      "       ai  branch  convers  seubject\n",
      "1.txt   0       0        1         1\n",
      "2.txt   1       1        1         0\n"
     ]
    }
   ],
   "source": [
    "print(bow)"
   ]
  },
  {
   "cell_type": "code",
   "execution_count": 33,
   "id": "0d91e089",
   "metadata": {},
   "outputs": [
    {
     "name": "stdout",
     "output_type": "stream",
     "text": [
      "{'1.txt': {'convers': 1, 'seubject': 1}, '2.txt': {'convers': 1, 'ai': 1, 'branch': 1}}\n"
     ]
    }
   ],
   "source": [
    "doc_count={}\n",
    "for i in range(len(final)):\n",
    "    word_count={}\n",
    "    for word in final[i].split():\n",
    "        if word not in word_count.keys():\n",
    "            word_count[word]=0\n",
    "        word_count[word]+=1\n",
    "    doc_count[filenames[i]]=word_count\n",
    "print(doc_count)"
   ]
  },
  {
   "cell_type": "code",
   "execution_count": 23,
   "id": "26d7fab2",
   "metadata": {},
   "outputs": [],
   "source": [
    "bow1=pd.DataFrame(doc_count)"
   ]
  },
  {
   "cell_type": "code",
   "execution_count": 24,
   "id": "0daad0de",
   "metadata": {},
   "outputs": [
    {
     "data": {
      "text/html": [
       "<div>\n",
       "<style scoped>\n",
       "    .dataframe tbody tr th:only-of-type {\n",
       "        vertical-align: middle;\n",
       "    }\n",
       "\n",
       "    .dataframe tbody tr th {\n",
       "        vertical-align: top;\n",
       "    }\n",
       "\n",
       "    .dataframe thead th {\n",
       "        text-align: right;\n",
       "    }\n",
       "</style>\n",
       "<table border=\"1\" class=\"dataframe\">\n",
       "  <thead>\n",
       "    <tr style=\"text-align: right;\">\n",
       "      <th></th>\n",
       "      <th>1 - Copy (2).txt</th>\n",
       "      <th>1 - Copy (3).txt</th>\n",
       "      <th>1 - Copy (4).txt</th>\n",
       "      <th>1 - Copy (5).txt</th>\n",
       "      <th>1 - Copy (6).txt</th>\n",
       "      <th>1 - Copy (7).txt</th>\n",
       "      <th>1 - Copy (8).txt</th>\n",
       "      <th>1 - Copy (9).txt</th>\n",
       "      <th>1 - Copy.txt</th>\n",
       "      <th>1.txt</th>\n",
       "    </tr>\n",
       "  </thead>\n",
       "  <tbody>\n",
       "    <tr>\n",
       "      <th>print</th>\n",
       "      <td>1.0</td>\n",
       "      <td>NaN</td>\n",
       "      <td>NaN</td>\n",
       "      <td>NaN</td>\n",
       "      <td>NaN</td>\n",
       "      <td>NaN</td>\n",
       "      <td>NaN</td>\n",
       "      <td>NaN</td>\n",
       "      <td>NaN</td>\n",
       "      <td>1.0</td>\n",
       "    </tr>\n",
       "    <tr>\n",
       "      <th>typeset</th>\n",
       "      <td>1.0</td>\n",
       "      <td>NaN</td>\n",
       "      <td>NaN</td>\n",
       "      <td>NaN</td>\n",
       "      <td>NaN</td>\n",
       "      <td>NaN</td>\n",
       "      <td>NaN</td>\n",
       "      <td>NaN</td>\n",
       "      <td>NaN</td>\n",
       "      <td>1.0</td>\n",
       "    </tr>\n",
       "    <tr>\n",
       "      <th>industri</th>\n",
       "      <td>1.0</td>\n",
       "      <td>NaN</td>\n",
       "      <td>1.0</td>\n",
       "      <td>NaN</td>\n",
       "      <td>NaN</td>\n",
       "      <td>NaN</td>\n",
       "      <td>NaN</td>\n",
       "      <td>NaN</td>\n",
       "      <td>NaN</td>\n",
       "      <td>NaN</td>\n",
       "    </tr>\n",
       "    <tr>\n",
       "      <th>literatur</th>\n",
       "      <td>NaN</td>\n",
       "      <td>1.0</td>\n",
       "      <td>NaN</td>\n",
       "      <td>NaN</td>\n",
       "      <td>NaN</td>\n",
       "      <td>NaN</td>\n",
       "      <td>NaN</td>\n",
       "      <td>NaN</td>\n",
       "      <td>NaN</td>\n",
       "      <td>NaN</td>\n",
       "    </tr>\n",
       "    <tr>\n",
       "      <th>mani</th>\n",
       "      <td>NaN</td>\n",
       "      <td>1.0</td>\n",
       "      <td>NaN</td>\n",
       "      <td>NaN</td>\n",
       "      <td>NaN</td>\n",
       "      <td>NaN</td>\n",
       "      <td>NaN</td>\n",
       "      <td>NaN</td>\n",
       "      <td>NaN</td>\n",
       "      <td>NaN</td>\n",
       "    </tr>\n",
       "    <tr>\n",
       "      <th>lorem</th>\n",
       "      <td>NaN</td>\n",
       "      <td>NaN</td>\n",
       "      <td>1.0</td>\n",
       "      <td>1.0</td>\n",
       "      <td>1.0</td>\n",
       "      <td>1.0</td>\n",
       "      <td>1.0</td>\n",
       "      <td>1.0</td>\n",
       "      <td>NaN</td>\n",
       "      <td>1.0</td>\n",
       "    </tr>\n",
       "    <tr>\n",
       "      <th>ipsum</th>\n",
       "      <td>NaN</td>\n",
       "      <td>NaN</td>\n",
       "      <td>1.0</td>\n",
       "      <td>1.0</td>\n",
       "      <td>1.0</td>\n",
       "      <td>1.0</td>\n",
       "      <td>1.0</td>\n",
       "      <td>1.0</td>\n",
       "      <td>NaN</td>\n",
       "      <td>1.0</td>\n",
       "    </tr>\n",
       "    <tr>\n",
       "      <th>default</th>\n",
       "      <td>NaN</td>\n",
       "      <td>NaN</td>\n",
       "      <td>NaN</td>\n",
       "      <td>1.0</td>\n",
       "      <td>NaN</td>\n",
       "      <td>NaN</td>\n",
       "      <td>NaN</td>\n",
       "      <td>NaN</td>\n",
       "      <td>NaN</td>\n",
       "      <td>NaN</td>\n",
       "    </tr>\n",
       "    <tr>\n",
       "      <th>model</th>\n",
       "      <td>NaN</td>\n",
       "      <td>NaN</td>\n",
       "      <td>NaN</td>\n",
       "      <td>1.0</td>\n",
       "      <td>NaN</td>\n",
       "      <td>NaN</td>\n",
       "      <td>NaN</td>\n",
       "      <td>NaN</td>\n",
       "      <td>NaN</td>\n",
       "      <td>NaN</td>\n",
       "    </tr>\n",
       "    <tr>\n",
       "      <th>text</th>\n",
       "      <td>NaN</td>\n",
       "      <td>NaN</td>\n",
       "      <td>NaN</td>\n",
       "      <td>1.0</td>\n",
       "      <td>NaN</td>\n",
       "      <td>NaN</td>\n",
       "      <td>NaN</td>\n",
       "      <td>NaN</td>\n",
       "      <td>NaN</td>\n",
       "      <td>1.0</td>\n",
       "    </tr>\n",
       "    <tr>\n",
       "      <th>normal</th>\n",
       "      <td>NaN</td>\n",
       "      <td>NaN</td>\n",
       "      <td>NaN</td>\n",
       "      <td>NaN</td>\n",
       "      <td>1.0</td>\n",
       "      <td>NaN</td>\n",
       "      <td>NaN</td>\n",
       "      <td>NaN</td>\n",
       "      <td>NaN</td>\n",
       "      <td>NaN</td>\n",
       "    </tr>\n",
       "    <tr>\n",
       "      <th>distribut</th>\n",
       "      <td>NaN</td>\n",
       "      <td>NaN</td>\n",
       "      <td>NaN</td>\n",
       "      <td>NaN</td>\n",
       "      <td>1.0</td>\n",
       "      <td>NaN</td>\n",
       "      <td>NaN</td>\n",
       "      <td>NaN</td>\n",
       "      <td>NaN</td>\n",
       "      <td>NaN</td>\n",
       "    </tr>\n",
       "    <tr>\n",
       "      <th>standard</th>\n",
       "      <td>NaN</td>\n",
       "      <td>NaN</td>\n",
       "      <td>NaN</td>\n",
       "      <td>NaN</td>\n",
       "      <td>NaN</td>\n",
       "      <td>1.0</td>\n",
       "      <td>NaN</td>\n",
       "      <td>1.0</td>\n",
       "      <td>NaN</td>\n",
       "      <td>NaN</td>\n",
       "    </tr>\n",
       "    <tr>\n",
       "      <th>chunk</th>\n",
       "      <td>NaN</td>\n",
       "      <td>NaN</td>\n",
       "      <td>NaN</td>\n",
       "      <td>NaN</td>\n",
       "      <td>NaN</td>\n",
       "      <td>1.0</td>\n",
       "      <td>NaN</td>\n",
       "      <td>NaN</td>\n",
       "      <td>NaN</td>\n",
       "      <td>NaN</td>\n",
       "    </tr>\n",
       "    <tr>\n",
       "      <th>simpli</th>\n",
       "      <td>NaN</td>\n",
       "      <td>NaN</td>\n",
       "      <td>NaN</td>\n",
       "      <td>NaN</td>\n",
       "      <td>NaN</td>\n",
       "      <td>NaN</td>\n",
       "      <td>1.0</td>\n",
       "      <td>NaN</td>\n",
       "      <td>NaN</td>\n",
       "      <td>1.0</td>\n",
       "    </tr>\n",
       "    <tr>\n",
       "      <th>random</th>\n",
       "      <td>NaN</td>\n",
       "      <td>NaN</td>\n",
       "      <td>NaN</td>\n",
       "      <td>NaN</td>\n",
       "      <td>NaN</td>\n",
       "      <td>NaN</td>\n",
       "      <td>1.0</td>\n",
       "      <td>NaN</td>\n",
       "      <td>NaN</td>\n",
       "      <td>NaN</td>\n",
       "    </tr>\n",
       "    <tr>\n",
       "      <th>surviv</th>\n",
       "      <td>NaN</td>\n",
       "      <td>NaN</td>\n",
       "      <td>NaN</td>\n",
       "      <td>NaN</td>\n",
       "      <td>NaN</td>\n",
       "      <td>NaN</td>\n",
       "      <td>NaN</td>\n",
       "      <td>NaN</td>\n",
       "      <td>1.0</td>\n",
       "      <td>NaN</td>\n",
       "    </tr>\n",
       "    <tr>\n",
       "      <th>five</th>\n",
       "      <td>NaN</td>\n",
       "      <td>NaN</td>\n",
       "      <td>NaN</td>\n",
       "      <td>NaN</td>\n",
       "      <td>NaN</td>\n",
       "      <td>NaN</td>\n",
       "      <td>NaN</td>\n",
       "      <td>NaN</td>\n",
       "      <td>1.0</td>\n",
       "      <td>NaN</td>\n",
       "    </tr>\n",
       "    <tr>\n",
       "      <th>dummi</th>\n",
       "      <td>NaN</td>\n",
       "      <td>NaN</td>\n",
       "      <td>NaN</td>\n",
       "      <td>NaN</td>\n",
       "      <td>NaN</td>\n",
       "      <td>NaN</td>\n",
       "      <td>NaN</td>\n",
       "      <td>NaN</td>\n",
       "      <td>NaN</td>\n",
       "      <td>1.0</td>\n",
       "    </tr>\n",
       "  </tbody>\n",
       "</table>\n",
       "</div>"
      ],
      "text/plain": [
       "           1 - Copy (2).txt  1 - Copy (3).txt  1 - Copy (4).txt  \\\n",
       "print                   1.0               NaN               NaN   \n",
       "typeset                 1.0               NaN               NaN   \n",
       "industri                1.0               NaN               1.0   \n",
       "literatur               NaN               1.0               NaN   \n",
       "mani                    NaN               1.0               NaN   \n",
       "lorem                   NaN               NaN               1.0   \n",
       "ipsum                   NaN               NaN               1.0   \n",
       "default                 NaN               NaN               NaN   \n",
       "model                   NaN               NaN               NaN   \n",
       "text                    NaN               NaN               NaN   \n",
       "normal                  NaN               NaN               NaN   \n",
       "distribut               NaN               NaN               NaN   \n",
       "standard                NaN               NaN               NaN   \n",
       "chunk                   NaN               NaN               NaN   \n",
       "simpli                  NaN               NaN               NaN   \n",
       "random                  NaN               NaN               NaN   \n",
       "surviv                  NaN               NaN               NaN   \n",
       "five                    NaN               NaN               NaN   \n",
       "dummi                   NaN               NaN               NaN   \n",
       "\n",
       "           1 - Copy (5).txt  1 - Copy (6).txt  1 - Copy (7).txt  \\\n",
       "print                   NaN               NaN               NaN   \n",
       "typeset                 NaN               NaN               NaN   \n",
       "industri                NaN               NaN               NaN   \n",
       "literatur               NaN               NaN               NaN   \n",
       "mani                    NaN               NaN               NaN   \n",
       "lorem                   1.0               1.0               1.0   \n",
       "ipsum                   1.0               1.0               1.0   \n",
       "default                 1.0               NaN               NaN   \n",
       "model                   1.0               NaN               NaN   \n",
       "text                    1.0               NaN               NaN   \n",
       "normal                  NaN               1.0               NaN   \n",
       "distribut               NaN               1.0               NaN   \n",
       "standard                NaN               NaN               1.0   \n",
       "chunk                   NaN               NaN               1.0   \n",
       "simpli                  NaN               NaN               NaN   \n",
       "random                  NaN               NaN               NaN   \n",
       "surviv                  NaN               NaN               NaN   \n",
       "five                    NaN               NaN               NaN   \n",
       "dummi                   NaN               NaN               NaN   \n",
       "\n",
       "           1 - Copy (8).txt  1 - Copy (9).txt  1 - Copy.txt  1.txt  \n",
       "print                   NaN               NaN           NaN    1.0  \n",
       "typeset                 NaN               NaN           NaN    1.0  \n",
       "industri                NaN               NaN           NaN    NaN  \n",
       "literatur               NaN               NaN           NaN    NaN  \n",
       "mani                    NaN               NaN           NaN    NaN  \n",
       "lorem                   1.0               1.0           NaN    1.0  \n",
       "ipsum                   1.0               1.0           NaN    1.0  \n",
       "default                 NaN               NaN           NaN    NaN  \n",
       "model                   NaN               NaN           NaN    NaN  \n",
       "text                    NaN               NaN           NaN    1.0  \n",
       "normal                  NaN               NaN           NaN    NaN  \n",
       "distribut               NaN               NaN           NaN    NaN  \n",
       "standard                NaN               1.0           NaN    NaN  \n",
       "chunk                   NaN               NaN           NaN    NaN  \n",
       "simpli                  1.0               NaN           NaN    1.0  \n",
       "random                  1.0               NaN           NaN    NaN  \n",
       "surviv                  NaN               NaN           1.0    NaN  \n",
       "five                    NaN               NaN           1.0    NaN  \n",
       "dummi                   NaN               NaN           NaN    1.0  "
      ]
     },
     "execution_count": 24,
     "metadata": {},
     "output_type": "execute_result"
    }
   ],
   "source": [
    "bow1"
   ]
  },
  {
   "cell_type": "code",
   "execution_count": 25,
   "id": "dc1b4b23",
   "metadata": {},
   "outputs": [],
   "source": [
    "bow1.fillna(0,inplace=True)"
   ]
  },
  {
   "cell_type": "code",
   "execution_count": 26,
   "id": "bddecc6e",
   "metadata": {},
   "outputs": [
    {
     "data": {
      "text/html": [
       "<div>\n",
       "<style scoped>\n",
       "    .dataframe tbody tr th:only-of-type {\n",
       "        vertical-align: middle;\n",
       "    }\n",
       "\n",
       "    .dataframe tbody tr th {\n",
       "        vertical-align: top;\n",
       "    }\n",
       "\n",
       "    .dataframe thead th {\n",
       "        text-align: right;\n",
       "    }\n",
       "</style>\n",
       "<table border=\"1\" class=\"dataframe\">\n",
       "  <thead>\n",
       "    <tr style=\"text-align: right;\">\n",
       "      <th></th>\n",
       "      <th>1 - Copy (2).txt</th>\n",
       "      <th>1 - Copy (3).txt</th>\n",
       "      <th>1 - Copy (4).txt</th>\n",
       "      <th>1 - Copy (5).txt</th>\n",
       "      <th>1 - Copy (6).txt</th>\n",
       "      <th>1 - Copy (7).txt</th>\n",
       "      <th>1 - Copy (8).txt</th>\n",
       "      <th>1 - Copy (9).txt</th>\n",
       "      <th>1 - Copy.txt</th>\n",
       "      <th>1.txt</th>\n",
       "    </tr>\n",
       "  </thead>\n",
       "  <tbody>\n",
       "    <tr>\n",
       "      <th>print</th>\n",
       "      <td>1.0</td>\n",
       "      <td>0.0</td>\n",
       "      <td>0.0</td>\n",
       "      <td>0.0</td>\n",
       "      <td>0.0</td>\n",
       "      <td>0.0</td>\n",
       "      <td>0.0</td>\n",
       "      <td>0.0</td>\n",
       "      <td>0.0</td>\n",
       "      <td>1.0</td>\n",
       "    </tr>\n",
       "    <tr>\n",
       "      <th>typeset</th>\n",
       "      <td>1.0</td>\n",
       "      <td>0.0</td>\n",
       "      <td>0.0</td>\n",
       "      <td>0.0</td>\n",
       "      <td>0.0</td>\n",
       "      <td>0.0</td>\n",
       "      <td>0.0</td>\n",
       "      <td>0.0</td>\n",
       "      <td>0.0</td>\n",
       "      <td>1.0</td>\n",
       "    </tr>\n",
       "    <tr>\n",
       "      <th>industri</th>\n",
       "      <td>1.0</td>\n",
       "      <td>0.0</td>\n",
       "      <td>1.0</td>\n",
       "      <td>0.0</td>\n",
       "      <td>0.0</td>\n",
       "      <td>0.0</td>\n",
       "      <td>0.0</td>\n",
       "      <td>0.0</td>\n",
       "      <td>0.0</td>\n",
       "      <td>0.0</td>\n",
       "    </tr>\n",
       "    <tr>\n",
       "      <th>literatur</th>\n",
       "      <td>0.0</td>\n",
       "      <td>1.0</td>\n",
       "      <td>0.0</td>\n",
       "      <td>0.0</td>\n",
       "      <td>0.0</td>\n",
       "      <td>0.0</td>\n",
       "      <td>0.0</td>\n",
       "      <td>0.0</td>\n",
       "      <td>0.0</td>\n",
       "      <td>0.0</td>\n",
       "    </tr>\n",
       "    <tr>\n",
       "      <th>mani</th>\n",
       "      <td>0.0</td>\n",
       "      <td>1.0</td>\n",
       "      <td>0.0</td>\n",
       "      <td>0.0</td>\n",
       "      <td>0.0</td>\n",
       "      <td>0.0</td>\n",
       "      <td>0.0</td>\n",
       "      <td>0.0</td>\n",
       "      <td>0.0</td>\n",
       "      <td>0.0</td>\n",
       "    </tr>\n",
       "    <tr>\n",
       "      <th>lorem</th>\n",
       "      <td>0.0</td>\n",
       "      <td>0.0</td>\n",
       "      <td>1.0</td>\n",
       "      <td>1.0</td>\n",
       "      <td>1.0</td>\n",
       "      <td>1.0</td>\n",
       "      <td>1.0</td>\n",
       "      <td>1.0</td>\n",
       "      <td>0.0</td>\n",
       "      <td>1.0</td>\n",
       "    </tr>\n",
       "    <tr>\n",
       "      <th>ipsum</th>\n",
       "      <td>0.0</td>\n",
       "      <td>0.0</td>\n",
       "      <td>1.0</td>\n",
       "      <td>1.0</td>\n",
       "      <td>1.0</td>\n",
       "      <td>1.0</td>\n",
       "      <td>1.0</td>\n",
       "      <td>1.0</td>\n",
       "      <td>0.0</td>\n",
       "      <td>1.0</td>\n",
       "    </tr>\n",
       "    <tr>\n",
       "      <th>default</th>\n",
       "      <td>0.0</td>\n",
       "      <td>0.0</td>\n",
       "      <td>0.0</td>\n",
       "      <td>1.0</td>\n",
       "      <td>0.0</td>\n",
       "      <td>0.0</td>\n",
       "      <td>0.0</td>\n",
       "      <td>0.0</td>\n",
       "      <td>0.0</td>\n",
       "      <td>0.0</td>\n",
       "    </tr>\n",
       "    <tr>\n",
       "      <th>model</th>\n",
       "      <td>0.0</td>\n",
       "      <td>0.0</td>\n",
       "      <td>0.0</td>\n",
       "      <td>1.0</td>\n",
       "      <td>0.0</td>\n",
       "      <td>0.0</td>\n",
       "      <td>0.0</td>\n",
       "      <td>0.0</td>\n",
       "      <td>0.0</td>\n",
       "      <td>0.0</td>\n",
       "    </tr>\n",
       "    <tr>\n",
       "      <th>text</th>\n",
       "      <td>0.0</td>\n",
       "      <td>0.0</td>\n",
       "      <td>0.0</td>\n",
       "      <td>1.0</td>\n",
       "      <td>0.0</td>\n",
       "      <td>0.0</td>\n",
       "      <td>0.0</td>\n",
       "      <td>0.0</td>\n",
       "      <td>0.0</td>\n",
       "      <td>1.0</td>\n",
       "    </tr>\n",
       "    <tr>\n",
       "      <th>normal</th>\n",
       "      <td>0.0</td>\n",
       "      <td>0.0</td>\n",
       "      <td>0.0</td>\n",
       "      <td>0.0</td>\n",
       "      <td>1.0</td>\n",
       "      <td>0.0</td>\n",
       "      <td>0.0</td>\n",
       "      <td>0.0</td>\n",
       "      <td>0.0</td>\n",
       "      <td>0.0</td>\n",
       "    </tr>\n",
       "    <tr>\n",
       "      <th>distribut</th>\n",
       "      <td>0.0</td>\n",
       "      <td>0.0</td>\n",
       "      <td>0.0</td>\n",
       "      <td>0.0</td>\n",
       "      <td>1.0</td>\n",
       "      <td>0.0</td>\n",
       "      <td>0.0</td>\n",
       "      <td>0.0</td>\n",
       "      <td>0.0</td>\n",
       "      <td>0.0</td>\n",
       "    </tr>\n",
       "    <tr>\n",
       "      <th>standard</th>\n",
       "      <td>0.0</td>\n",
       "      <td>0.0</td>\n",
       "      <td>0.0</td>\n",
       "      <td>0.0</td>\n",
       "      <td>0.0</td>\n",
       "      <td>1.0</td>\n",
       "      <td>0.0</td>\n",
       "      <td>1.0</td>\n",
       "      <td>0.0</td>\n",
       "      <td>0.0</td>\n",
       "    </tr>\n",
       "    <tr>\n",
       "      <th>chunk</th>\n",
       "      <td>0.0</td>\n",
       "      <td>0.0</td>\n",
       "      <td>0.0</td>\n",
       "      <td>0.0</td>\n",
       "      <td>0.0</td>\n",
       "      <td>1.0</td>\n",
       "      <td>0.0</td>\n",
       "      <td>0.0</td>\n",
       "      <td>0.0</td>\n",
       "      <td>0.0</td>\n",
       "    </tr>\n",
       "    <tr>\n",
       "      <th>simpli</th>\n",
       "      <td>0.0</td>\n",
       "      <td>0.0</td>\n",
       "      <td>0.0</td>\n",
       "      <td>0.0</td>\n",
       "      <td>0.0</td>\n",
       "      <td>0.0</td>\n",
       "      <td>1.0</td>\n",
       "      <td>0.0</td>\n",
       "      <td>0.0</td>\n",
       "      <td>1.0</td>\n",
       "    </tr>\n",
       "    <tr>\n",
       "      <th>random</th>\n",
       "      <td>0.0</td>\n",
       "      <td>0.0</td>\n",
       "      <td>0.0</td>\n",
       "      <td>0.0</td>\n",
       "      <td>0.0</td>\n",
       "      <td>0.0</td>\n",
       "      <td>1.0</td>\n",
       "      <td>0.0</td>\n",
       "      <td>0.0</td>\n",
       "      <td>0.0</td>\n",
       "    </tr>\n",
       "    <tr>\n",
       "      <th>surviv</th>\n",
       "      <td>0.0</td>\n",
       "      <td>0.0</td>\n",
       "      <td>0.0</td>\n",
       "      <td>0.0</td>\n",
       "      <td>0.0</td>\n",
       "      <td>0.0</td>\n",
       "      <td>0.0</td>\n",
       "      <td>0.0</td>\n",
       "      <td>1.0</td>\n",
       "      <td>0.0</td>\n",
       "    </tr>\n",
       "    <tr>\n",
       "      <th>five</th>\n",
       "      <td>0.0</td>\n",
       "      <td>0.0</td>\n",
       "      <td>0.0</td>\n",
       "      <td>0.0</td>\n",
       "      <td>0.0</td>\n",
       "      <td>0.0</td>\n",
       "      <td>0.0</td>\n",
       "      <td>0.0</td>\n",
       "      <td>1.0</td>\n",
       "      <td>0.0</td>\n",
       "    </tr>\n",
       "    <tr>\n",
       "      <th>dummi</th>\n",
       "      <td>0.0</td>\n",
       "      <td>0.0</td>\n",
       "      <td>0.0</td>\n",
       "      <td>0.0</td>\n",
       "      <td>0.0</td>\n",
       "      <td>0.0</td>\n",
       "      <td>0.0</td>\n",
       "      <td>0.0</td>\n",
       "      <td>0.0</td>\n",
       "      <td>1.0</td>\n",
       "    </tr>\n",
       "  </tbody>\n",
       "</table>\n",
       "</div>"
      ],
      "text/plain": [
       "           1 - Copy (2).txt  1 - Copy (3).txt  1 - Copy (4).txt  \\\n",
       "print                   1.0               0.0               0.0   \n",
       "typeset                 1.0               0.0               0.0   \n",
       "industri                1.0               0.0               1.0   \n",
       "literatur               0.0               1.0               0.0   \n",
       "mani                    0.0               1.0               0.0   \n",
       "lorem                   0.0               0.0               1.0   \n",
       "ipsum                   0.0               0.0               1.0   \n",
       "default                 0.0               0.0               0.0   \n",
       "model                   0.0               0.0               0.0   \n",
       "text                    0.0               0.0               0.0   \n",
       "normal                  0.0               0.0               0.0   \n",
       "distribut               0.0               0.0               0.0   \n",
       "standard                0.0               0.0               0.0   \n",
       "chunk                   0.0               0.0               0.0   \n",
       "simpli                  0.0               0.0               0.0   \n",
       "random                  0.0               0.0               0.0   \n",
       "surviv                  0.0               0.0               0.0   \n",
       "five                    0.0               0.0               0.0   \n",
       "dummi                   0.0               0.0               0.0   \n",
       "\n",
       "           1 - Copy (5).txt  1 - Copy (6).txt  1 - Copy (7).txt  \\\n",
       "print                   0.0               0.0               0.0   \n",
       "typeset                 0.0               0.0               0.0   \n",
       "industri                0.0               0.0               0.0   \n",
       "literatur               0.0               0.0               0.0   \n",
       "mani                    0.0               0.0               0.0   \n",
       "lorem                   1.0               1.0               1.0   \n",
       "ipsum                   1.0               1.0               1.0   \n",
       "default                 1.0               0.0               0.0   \n",
       "model                   1.0               0.0               0.0   \n",
       "text                    1.0               0.0               0.0   \n",
       "normal                  0.0               1.0               0.0   \n",
       "distribut               0.0               1.0               0.0   \n",
       "standard                0.0               0.0               1.0   \n",
       "chunk                   0.0               0.0               1.0   \n",
       "simpli                  0.0               0.0               0.0   \n",
       "random                  0.0               0.0               0.0   \n",
       "surviv                  0.0               0.0               0.0   \n",
       "five                    0.0               0.0               0.0   \n",
       "dummi                   0.0               0.0               0.0   \n",
       "\n",
       "           1 - Copy (8).txt  1 - Copy (9).txt  1 - Copy.txt  1.txt  \n",
       "print                   0.0               0.0           0.0    1.0  \n",
       "typeset                 0.0               0.0           0.0    1.0  \n",
       "industri                0.0               0.0           0.0    0.0  \n",
       "literatur               0.0               0.0           0.0    0.0  \n",
       "mani                    0.0               0.0           0.0    0.0  \n",
       "lorem                   1.0               1.0           0.0    1.0  \n",
       "ipsum                   1.0               1.0           0.0    1.0  \n",
       "default                 0.0               0.0           0.0    0.0  \n",
       "model                   0.0               0.0           0.0    0.0  \n",
       "text                    0.0               0.0           0.0    1.0  \n",
       "normal                  0.0               0.0           0.0    0.0  \n",
       "distribut               0.0               0.0           0.0    0.0  \n",
       "standard                0.0               1.0           0.0    0.0  \n",
       "chunk                   0.0               0.0           0.0    0.0  \n",
       "simpli                  1.0               0.0           0.0    1.0  \n",
       "random                  1.0               0.0           0.0    0.0  \n",
       "surviv                  0.0               0.0           1.0    0.0  \n",
       "five                    0.0               0.0           1.0    0.0  \n",
       "dummi                   0.0               0.0           0.0    1.0  "
      ]
     },
     "execution_count": 26,
     "metadata": {},
     "output_type": "execute_result"
    }
   ],
   "source": [
    "bow1"
   ]
  },
  {
   "cell_type": "code",
   "execution_count": 27,
   "id": "f0112dd0",
   "metadata": {},
   "outputs": [
    {
     "name": "stdout",
     "output_type": "stream",
     "text": [
      "[[0.         0.         0.         0.         0.         2.60943791\n",
      "  0.         0.         0.         0.         0.         0.\n",
      "  2.60943791 0.         0.         0.         0.         0.\n",
      "  2.60943791]\n",
      " [0.         0.         0.         0.         0.         0.\n",
      "  0.         3.30258509 0.         3.30258509 0.         0.\n",
      "  0.         0.         0.         0.         0.         0.\n",
      "  0.        ]\n",
      " [0.         0.         0.         0.         0.         2.60943791\n",
      "  1.35667494 0.         1.35667494 0.         0.         0.\n",
      "  0.         0.         0.         0.         0.         0.\n",
      "  0.        ]\n",
      " [0.         3.30258509 0.         0.         0.         0.\n",
      "  1.35667494 0.         1.35667494 0.         3.30258509 0.\n",
      "  0.         0.         0.         0.         0.         2.60943791\n",
      "  0.        ]\n",
      " [0.         0.         3.30258509 0.         0.         0.\n",
      "  1.35667494 0.         1.35667494 0.         0.         3.30258509\n",
      "  0.         0.         0.         0.         0.         0.\n",
      "  0.        ]\n",
      " [3.30258509 0.         0.         0.         0.         0.\n",
      "  1.35667494 0.         1.35667494 0.         0.         0.\n",
      "  0.         0.         0.         2.60943791 0.         0.\n",
      "  0.        ]\n",
      " [0.         0.         0.         0.         0.         0.\n",
      "  1.35667494 0.         1.35667494 0.         0.         0.\n",
      "  0.         3.30258509 2.60943791 0.         0.         0.\n",
      "  0.        ]\n",
      " [0.         0.         0.         0.         0.         0.\n",
      "  1.35667494 0.         1.35667494 0.         0.         0.\n",
      "  0.         0.         0.         2.60943791 0.         0.\n",
      "  0.        ]\n",
      " [0.         0.         0.         0.         3.30258509 0.\n",
      "  0.         0.         0.         0.         0.         0.\n",
      "  0.         0.         0.         0.         3.30258509 0.\n",
      "  0.        ]\n",
      " [0.         0.         0.         3.30258509 0.         0.\n",
      "  1.35667494 0.         1.35667494 0.         0.         0.\n",
      "  2.60943791 0.         2.60943791 0.         0.         2.60943791\n",
      "  2.60943791]]\n"
     ]
    }
   ],
   "source": [
    "from sklearn.feature_extraction.text import TfidfVectorizer\n",
    "tf=TfidfVectorizer(norm=False,smooth_idf=False)\n",
    "X1=tf.fit_transform(final)\n",
    "print(X1.toarray())"
   ]
  },
  {
   "cell_type": "code",
   "execution_count": null,
   "id": "65390596",
   "metadata": {},
   "outputs": [],
   "source": []
  }
 ],
 "metadata": {
  "kernelspec": {
   "display_name": "Python 3 (ipykernel)",
   "language": "python",
   "name": "python3"
  },
  "language_info": {
   "codemirror_mode": {
    "name": "ipython",
    "version": 3
   },
   "file_extension": ".py",
   "mimetype": "text/x-python",
   "name": "python",
   "nbconvert_exporter": "python",
   "pygments_lexer": "ipython3",
   "version": "3.9.7"
  }
 },
 "nbformat": 4,
 "nbformat_minor": 5
}
