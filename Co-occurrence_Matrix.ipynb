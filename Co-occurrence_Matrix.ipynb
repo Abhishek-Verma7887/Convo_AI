{
 "cells": [
  {
   "cell_type": "code",
   "execution_count": 1,
   "metadata": {},
   "outputs": [],
   "source": [
    "import pandas as pd\n",
    "import numpy as  np"
   ]
  },
  {
   "cell_type": "code",
   "execution_count": 4,
   "metadata": {},
   "outputs": [],
   "source": [
    "#Laod first 1ooo rows of IMDB Dataset\n",
    "df=pd.read_csv('IMDB_Dataset.csv',nrows=1000)"
   ]
  },
  {
   "cell_type": "code",
   "execution_count": 5,
   "metadata": {},
   "outputs": [],
   "source": [
    "#Create a list of list named Corpus whose each list is a review (document) from IMDB dataset\n",
    "corpus=[]\n",
    "for i in range(len(df)):\n",
    "    corpus.append(df['review'][i])"
   ]
  },
  {
   "cell_type": "code",
   "execution_count": 6,
   "metadata": {},
   "outputs": [
    {
     "data": {
      "text/plain": [
       "\"One of the other reviewers has mentioned that after watching just 1 Oz episode you'll be hooked. They are right, as this is exactly what happened with me.<br /><br />The first thing that struck me about Oz was its brutality and unflinching scenes of violence, which set in right from the word GO. Trust me, this is not a show for the faint hearted or timid. This show pulls no punches with regards to drugs, sex or violence. Its is hardcore, in the classic use of the word.<br /><br />It is called OZ as that is the nickname given to the Oswald Maximum Security State Penitentary. It focuses mainly on Emerald City, an experimental section of the prison where all the cells have glass fronts and face inwards, so privacy is not high on the agenda. Em City is home to many..Aryans, Muslims, gangstas, Latinos, Christians, Italians, Irish and more....so scuffles, death stares, dodgy dealings and shady agreements are never far away.<br /><br />I would say the main appeal of the show is due to the fact that it goes where other shows wouldn't dare. Forget pretty pictures painted for mainstream audiences, forget charm, forget romance...OZ doesn't mess around. The first episode I ever saw struck me as so nasty it was surreal, I couldn't say I was ready for it, but as I watched more, I developed a taste for Oz, and got accustomed to the high levels of graphic violence. Not just violence, but injustice (crooked guards who'll be sold out for a nickel, inmates who'll kill on order and get away with it, well mannered, middle class inmates being turned into prison bitches due to their lack of street skills or prison experience) Watching Oz, you may become comfortable with what is uncomfortable viewing....thats if you can get in touch with your darker side.\""
      ]
     },
     "execution_count": 6,
     "metadata": {},
     "output_type": "execute_result"
    }
   ],
   "source": [
    "corpus[0]"
   ]
  },
  {
   "cell_type": "code",
   "execution_count": 8,
   "metadata": {},
   "outputs": [],
   "source": [
    "# remove non-aplha characters and converting words to lower case in each document\n",
    "corpus_final=[]\n",
    "for i in range(len(corpus)):\n",
    "    corpus_final.append(\" \".join([word.lower() for word in corpus[i].split() if word.isalpha()]))"
   ]
  },
  {
   "cell_type": "code",
   "execution_count": 9,
   "metadata": {},
   "outputs": [],
   "source": [
    "#creating binary bow vector as dictionary of dictionary\n",
    "#Each external dictionary will have key as document number and internal dictionaries have the keys as the word present in the document\n",
    "document_frequency={}\n",
    "for i in range(len(corpus_final)):\n",
    "    word_frequency={}\n",
    "    for word in corpus_final[i].split():\n",
    "        word_frequency[word]=1\n",
    "    document_frequency[i]=word_frequency"
   ]
  },
  {
   "cell_type": "code",
   "execution_count": 10,
   "metadata": {},
   "outputs": [
    {
     "data": {
      "text/plain": [
       "{'one': 1,\n",
       " 'of': 1,\n",
       " 'the': 1,\n",
       " 'other': 1,\n",
       " 'reviewers': 1,\n",
       " 'has': 1,\n",
       " 'mentioned': 1,\n",
       " 'that': 1,\n",
       " 'after': 1,\n",
       " 'watching': 1,\n",
       " 'just': 1,\n",
       " 'oz': 1,\n",
       " 'episode': 1,\n",
       " 'be': 1,\n",
       " 'they': 1,\n",
       " 'are': 1,\n",
       " 'as': 1,\n",
       " 'this': 1,\n",
       " 'is': 1,\n",
       " 'exactly': 1,\n",
       " 'what': 1,\n",
       " 'happened': 1,\n",
       " 'with': 1,\n",
       " 'first': 1,\n",
       " 'thing': 1,\n",
       " 'struck': 1,\n",
       " 'me': 1,\n",
       " 'about': 1,\n",
       " 'was': 1,\n",
       " 'its': 1,\n",
       " 'brutality': 1,\n",
       " 'and': 1,\n",
       " 'unflinching': 1,\n",
       " 'scenes': 1,\n",
       " 'which': 1,\n",
       " 'set': 1,\n",
       " 'in': 1,\n",
       " 'right': 1,\n",
       " 'from': 1,\n",
       " 'word': 1,\n",
       " 'trust': 1,\n",
       " 'not': 1,\n",
       " 'a': 1,\n",
       " 'show': 1,\n",
       " 'for': 1,\n",
       " 'faint': 1,\n",
       " 'hearted': 1,\n",
       " 'or': 1,\n",
       " 'pulls': 1,\n",
       " 'no': 1,\n",
       " 'punches': 1,\n",
       " 'regards': 1,\n",
       " 'to': 1,\n",
       " 'sex': 1,\n",
       " 'classic': 1,\n",
       " 'use': 1,\n",
       " 'called': 1,\n",
       " 'nickname': 1,\n",
       " 'given': 1,\n",
       " 'oswald': 1,\n",
       " 'maximum': 1,\n",
       " 'security': 1,\n",
       " 'state': 1,\n",
       " 'it': 1,\n",
       " 'focuses': 1,\n",
       " 'mainly': 1,\n",
       " 'on': 1,\n",
       " 'emerald': 1,\n",
       " 'an': 1,\n",
       " 'experimental': 1,\n",
       " 'section': 1,\n",
       " 'prison': 1,\n",
       " 'where': 1,\n",
       " 'all': 1,\n",
       " 'cells': 1,\n",
       " 'have': 1,\n",
       " 'glass': 1,\n",
       " 'fronts': 1,\n",
       " 'face': 1,\n",
       " 'so': 1,\n",
       " 'privacy': 1,\n",
       " 'high': 1,\n",
       " 'em': 1,\n",
       " 'city': 1,\n",
       " 'home': 1,\n",
       " 'irish': 1,\n",
       " 'death': 1,\n",
       " 'dodgy': 1,\n",
       " 'dealings': 1,\n",
       " 'shady': 1,\n",
       " 'agreements': 1,\n",
       " 'never': 1,\n",
       " 'far': 1,\n",
       " 'would': 1,\n",
       " 'say': 1,\n",
       " 'main': 1,\n",
       " 'appeal': 1,\n",
       " 'due': 1,\n",
       " 'fact': 1,\n",
       " 'goes': 1,\n",
       " 'shows': 1,\n",
       " 'forget': 1,\n",
       " 'pretty': 1,\n",
       " 'pictures': 1,\n",
       " 'painted': 1,\n",
       " 'mainstream': 1,\n",
       " 'mess': 1,\n",
       " 'i': 1,\n",
       " 'ever': 1,\n",
       " 'saw': 1,\n",
       " 'nasty': 1,\n",
       " 'ready': 1,\n",
       " 'but': 1,\n",
       " 'watched': 1,\n",
       " 'developed': 1,\n",
       " 'taste': 1,\n",
       " 'got': 1,\n",
       " 'accustomed': 1,\n",
       " 'levels': 1,\n",
       " 'graphic': 1,\n",
       " 'injustice': 1,\n",
       " 'guards': 1,\n",
       " 'sold': 1,\n",
       " 'out': 1,\n",
       " 'inmates': 1,\n",
       " 'kill': 1,\n",
       " 'order': 1,\n",
       " 'get': 1,\n",
       " 'away': 1,\n",
       " 'well': 1,\n",
       " 'middle': 1,\n",
       " 'class': 1,\n",
       " 'being': 1,\n",
       " 'turned': 1,\n",
       " 'into': 1,\n",
       " 'bitches': 1,\n",
       " 'their': 1,\n",
       " 'lack': 1,\n",
       " 'street': 1,\n",
       " 'skills': 1,\n",
       " 'you': 1,\n",
       " 'may': 1,\n",
       " 'become': 1,\n",
       " 'comfortable': 1,\n",
       " 'uncomfortable': 1,\n",
       " 'if': 1,\n",
       " 'can': 1,\n",
       " 'touch': 1,\n",
       " 'your': 1,\n",
       " 'darker': 1}"
      ]
     },
     "execution_count": 10,
     "metadata": {},
     "output_type": "execute_result"
    }
   ],
   "source": [
    "document_frequency[0]"
   ]
  },
  {
   "cell_type": "code",
   "execution_count": 17,
   "metadata": {},
   "outputs": [
    {
     "data": {
      "text/plain": [
       "(14719, 1000)"
      ]
     },
     "execution_count": 17,
     "metadata": {},
     "output_type": "execute_result"
    }
   ],
   "source": [
    "#Converting dicitonaries of dicitonaries into DataFrame; setting NaN as 0 (for terms which are not present in particular docme)\n",
    "bow=pd.DataFrame(document_frequency)\n",
    "bow.fillna(0,inplace=True)\n",
    "bow.shape"
   ]
  },
  {
   "cell_type": "code",
   "execution_count": 18,
   "metadata": {},
   "outputs": [],
   "source": [
    "cooccurrence_matrix=bow.values.dot(bow.values.T)"
   ]
  },
  {
   "cell_type": "code",
   "execution_count": 19,
   "metadata": {},
   "outputs": [],
   "source": [
    "np.fill_diagonal(cooccurrence_matrix,0)"
   ]
  },
  {
   "cell_type": "code",
   "execution_count": 14,
   "metadata": {},
   "outputs": [
    {
     "data": {
      "text/plain": [
       "(14719, 14719)"
      ]
     },
     "execution_count": 14,
     "metadata": {},
     "output_type": "execute_result"
    }
   ],
   "source": [
    "cooccurrence_matrix.shape"
   ]
  },
  {
   "cell_type": "code",
   "execution_count": 20,
   "metadata": {},
   "outputs": [
    {
     "data": {
      "text/plain": [
       "array([[  0., 496., 500., ...,   1.,   1.,   1.],\n",
       "       [496.,   0., 950., ...,   1.,   1.,   1.],\n",
       "       [500., 950.,   0., ...,   1.,   1.,   1.],\n",
       "       ...,\n",
       "       [  1.,   1.,   1., ...,   0.,   1.,   1.],\n",
       "       [  1.,   1.,   1., ...,   1.,   0.,   1.],\n",
       "       [  1.,   1.,   1., ...,   1.,   1.,   0.]])"
      ]
     },
     "execution_count": 20,
     "metadata": {},
     "output_type": "execute_result"
    }
   ],
   "source": [
    "cooccurrence_matrix"
   ]
  },
  {
   "cell_type": "code",
   "execution_count": null,
   "metadata": {},
   "outputs": [],
   "source": []
  }
 ],
 "metadata": {
  "kernelspec": {
   "display_name": "Python 3",
   "language": "python",
   "name": "python3"
  },
  "language_info": {
   "codemirror_mode": {
    "name": "ipython",
    "version": 3
   },
   "file_extension": ".py",
   "mimetype": "text/x-python",
   "name": "python",
   "nbconvert_exporter": "python",
   "pygments_lexer": "ipython3",
   "version": "3.7.3"
  }
 },
 "nbformat": 4,
 "nbformat_minor": 5
}
