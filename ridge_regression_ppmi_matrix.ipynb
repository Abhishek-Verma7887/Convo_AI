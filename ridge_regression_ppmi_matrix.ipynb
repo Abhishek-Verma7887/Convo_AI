{
 "cells": [
  {
   "cell_type": "code",
   "execution_count": 2,
   "id": "478b4497-05b1-4603-a54c-704c1b451d04",
   "metadata": {},
   "outputs": [],
   "source": [
    "import cudf as pd\n",
    "import cuml\n",
    "import cupy as np\n",
    "import math"
   ]
  },
  {
   "cell_type": "code",
   "execution_count": 2,
   "id": "4e855593-df54-494b-bbe6-489b550be289",
   "metadata": {},
   "outputs": [],
   "source": [
    "X= list(range(60,360,3))\n",
    "X=np.asarray(X)\n",
    "Y=[]\n",
    "for i in range(len(X)):\n",
    "    Y.append(math.sin(X[i]))\n",
    "Y=np.asarray(Y)"
   ]
  },
  {
   "cell_type": "code",
   "execution_count": 3,
   "id": "0505f8f6-f052-4d14-a7bd-ba01d5d24a8a",
   "metadata": {},
   "outputs": [
    {
     "data": {
      "text/plain": [
       "array([ 60,  63,  66,  69,  72,  75,  78,  81,  84,  87,  90,  93,  96,\n",
       "        99, 102, 105, 108, 111, 114, 117, 120, 123, 126, 129, 132, 135,\n",
       "       138, 141, 144, 147, 150, 153, 156, 159, 162, 165, 168, 171, 174,\n",
       "       177, 180, 183, 186, 189, 192, 195, 198, 201, 204, 207, 210, 213,\n",
       "       216, 219, 222, 225, 228, 231, 234, 237, 240, 243, 246, 249, 252,\n",
       "       255, 258, 261, 264, 267, 270, 273, 276, 279, 282, 285, 288, 291,\n",
       "       294, 297, 300, 303, 306, 309, 312, 315, 318, 321, 324, 327, 330,\n",
       "       333, 336, 339, 342, 345, 348, 351, 354, 357])"
      ]
     },
     "execution_count": 3,
     "metadata": {},
     "output_type": "execute_result"
    }
   ],
   "source": [
    "X"
   ]
  },
  {
   "cell_type": "code",
   "execution_count": 4,
   "id": "fdc87a78-e89b-409e-b760-a1fc7ec80121",
   "metadata": {},
   "outputs": [
    {
     "data": {
      "text/plain": [
       "array([-0.30481062,  0.1673557 , -0.02655115, -0.11478481,  0.25382336,\n",
       "       -0.38778164,  0.51397846, -0.62988799,  0.73319032, -0.82181784,\n",
       "        0.89399666, -0.94828214,  0.98358775, -0.99920683,  0.99482679,\n",
       "       -0.97053528,  0.92681851, -0.86455145,  0.78498039, -0.68969794,\n",
       "        0.58061118, -0.45990349,  0.32999083, -0.19347339,  0.05308359,\n",
       "        0.08836869, -0.22805226,  0.36317137, -0.49102159,  0.60904402,\n",
       "       -0.71487643,  0.80640058, -0.88178462,  0.93951973, -0.97845035,\n",
       "        0.99779728, -0.99717329,  0.97659087, -0.93646197,  0.87758979,\n",
       "       -0.80115264,  0.70868041, -0.60202394,  0.48331795, -0.35493836,\n",
       "        0.21945467, -0.07957859, -0.06189025,  0.20212036, -0.33830503,\n",
       "        0.46771852, -0.58777062,  0.69605849, -0.79041474,  0.86895084,\n",
       "       -0.93009488,  0.97262306, -0.99568419,  0.99881669, -0.98195787,\n",
       "        0.94544515, -0.89000935,  0.81676   , -0.72716319,  0.62301221,\n",
       "       -0.50639163,  0.37963563, -0.24528121,  0.10601749,  0.03536818,\n",
       "       -0.17604595,  0.31320015, -0.44408566,  0.56608279, -0.67674976,\n",
       "        0.77387159, -0.85550437,  0.92001423, -0.96610999,  0.99286906,\n",
       "       -0.99975584,  0.9866325 , -0.95376171,  0.90180137, -0.83179148,\n",
       "        0.74513326, -0.64356121,  0.52910827, -0.40406522,  0.27093481,\n",
       "       -0.13238163, -0.00882117,  0.14984741, -0.28787445,  0.42013968,\n",
       "       -0.54399582,  0.65696387, -0.75678279,  0.8414547 , -0.90928488])"
      ]
     },
     "execution_count": 4,
     "metadata": {},
     "output_type": "execute_result"
    }
   ],
   "source": [
    "\n",
    "Y"
   ]
  },
  {
   "cell_type": "code",
   "execution_count": 5,
   "id": "4e6fbad2-38cd-4eae-985b-855262e3e937",
   "metadata": {},
   "outputs": [
    {
     "data": {
      "text/plain": [
       "{'X': array([ 60,  63,  66,  69,  72,  75,  78,  81,  84,  87,  90,  93,  96,\n",
       "         99, 102, 105, 108, 111, 114, 117, 120, 123, 126, 129, 132, 135,\n",
       "        138, 141, 144, 147, 150, 153, 156, 159, 162, 165, 168, 171, 174,\n",
       "        177, 180, 183, 186, 189, 192, 195, 198, 201, 204, 207, 210, 213,\n",
       "        216, 219, 222, 225, 228, 231, 234, 237, 240, 243, 246, 249, 252,\n",
       "        255, 258, 261, 264, 267, 270, 273, 276, 279, 282, 285, 288, 291,\n",
       "        294, 297, 300, 303, 306, 309, 312, 315, 318, 321, 324, 327, 330,\n",
       "        333, 336, 339, 342, 345, 348, 351, 354, 357]),\n",
       " 'Y': array([-0.30481062,  0.1673557 , -0.02655115, -0.11478481,  0.25382336,\n",
       "        -0.38778164,  0.51397846, -0.62988799,  0.73319032, -0.82181784,\n",
       "         0.89399666, -0.94828214,  0.98358775, -0.99920683,  0.99482679,\n",
       "        -0.97053528,  0.92681851, -0.86455145,  0.78498039, -0.68969794,\n",
       "         0.58061118, -0.45990349,  0.32999083, -0.19347339,  0.05308359,\n",
       "         0.08836869, -0.22805226,  0.36317137, -0.49102159,  0.60904402,\n",
       "        -0.71487643,  0.80640058, -0.88178462,  0.93951973, -0.97845035,\n",
       "         0.99779728, -0.99717329,  0.97659087, -0.93646197,  0.87758979,\n",
       "        -0.80115264,  0.70868041, -0.60202394,  0.48331795, -0.35493836,\n",
       "         0.21945467, -0.07957859, -0.06189025,  0.20212036, -0.33830503,\n",
       "         0.46771852, -0.58777062,  0.69605849, -0.79041474,  0.86895084,\n",
       "        -0.93009488,  0.97262306, -0.99568419,  0.99881669, -0.98195787,\n",
       "         0.94544515, -0.89000935,  0.81676   , -0.72716319,  0.62301221,\n",
       "        -0.50639163,  0.37963563, -0.24528121,  0.10601749,  0.03536818,\n",
       "        -0.17604595,  0.31320015, -0.44408566,  0.56608279, -0.67674976,\n",
       "         0.77387159, -0.85550437,  0.92001423, -0.96610999,  0.99286906,\n",
       "        -0.99975584,  0.9866325 , -0.95376171,  0.90180137, -0.83179148,\n",
       "         0.74513326, -0.64356121,  0.52910827, -0.40406522,  0.27093481,\n",
       "        -0.13238163, -0.00882117,  0.14984741, -0.28787445,  0.42013968,\n",
       "        -0.54399582,  0.65696387, -0.75678279,  0.8414547 , -0.90928488])}"
      ]
     },
     "execution_count": 5,
     "metadata": {},
     "output_type": "execute_result"
    }
   ],
   "source": [
    "data={\"X\":X,\"Y\":Y}\n",
    "data"
   ]
  },
  {
   "cell_type": "code",
   "execution_count": 6,
   "id": "b9c8acf2-6707-4712-bfc3-a32122ceb59e",
   "metadata": {},
   "outputs": [
    {
     "data": {
      "text/html": [
       "<div>\n",
       "<style scoped>\n",
       "    .dataframe tbody tr th:only-of-type {\n",
       "        vertical-align: middle;\n",
       "    }\n",
       "\n",
       "    .dataframe tbody tr th {\n",
       "        vertical-align: top;\n",
       "    }\n",
       "\n",
       "    .dataframe thead th {\n",
       "        text-align: right;\n",
       "    }\n",
       "</style>\n",
       "<table border=\"1\" class=\"dataframe\">\n",
       "  <thead>\n",
       "    <tr style=\"text-align: right;\">\n",
       "      <th></th>\n",
       "      <th>X</th>\n",
       "      <th>Y</th>\n",
       "    </tr>\n",
       "  </thead>\n",
       "  <tbody>\n",
       "    <tr>\n",
       "      <th>0</th>\n",
       "      <td>60</td>\n",
       "      <td>-0.304811</td>\n",
       "    </tr>\n",
       "    <tr>\n",
       "      <th>1</th>\n",
       "      <td>63</td>\n",
       "      <td>0.167356</td>\n",
       "    </tr>\n",
       "    <tr>\n",
       "      <th>2</th>\n",
       "      <td>66</td>\n",
       "      <td>-0.026551</td>\n",
       "    </tr>\n",
       "    <tr>\n",
       "      <th>3</th>\n",
       "      <td>69</td>\n",
       "      <td>-0.114785</td>\n",
       "    </tr>\n",
       "    <tr>\n",
       "      <th>4</th>\n",
       "      <td>72</td>\n",
       "      <td>0.253823</td>\n",
       "    </tr>\n",
       "  </tbody>\n",
       "</table>\n",
       "</div>"
      ],
      "text/plain": [
       "    X         Y\n",
       "0  60 -0.304811\n",
       "1  63  0.167356\n",
       "2  66 -0.026551\n",
       "3  69 -0.114785\n",
       "4  72  0.253823"
      ]
     },
     "execution_count": 6,
     "metadata": {},
     "output_type": "execute_result"
    }
   ],
   "source": [
    "df=pd.DataFrame(data)\n",
    "df.head(5)"
   ]
  },
  {
   "cell_type": "code",
   "execution_count": 7,
   "id": "d3c08a1e-9ef8-4d63-b0bb-51e826fd9801",
   "metadata": {},
   "outputs": [],
   "source": [
    "#Seperating Input and Output Features\n",
    "Y=df.iloc[:,1]\n",
    "X=df.iloc[:,0]"
   ]
  },
  {
   "cell_type": "code",
   "execution_count": 8,
   "id": "14a66dcb-c0ca-4881-9b93-3402a8417835",
   "metadata": {},
   "outputs": [],
   "source": [
    "#Scaling input features\n",
    "from cuml.preprocessing import StandardScaler\n",
    "ss=StandardScaler()\n",
    "X_scaled=ss.fit_transform(pd.DataFrame(X))"
   ]
  },
  {
   "cell_type": "code",
   "execution_count": 9,
   "id": "844de169-4066-4ee9-bc8a-79971e9e47d9",
   "metadata": {},
   "outputs": [
    {
     "data": {
      "text/html": [
       "<div>\n",
       "<style scoped>\n",
       "    .dataframe tbody tr th:only-of-type {\n",
       "        vertical-align: middle;\n",
       "    }\n",
       "\n",
       "    .dataframe tbody tr th {\n",
       "        vertical-align: top;\n",
       "    }\n",
       "\n",
       "    .dataframe thead th {\n",
       "        text-align: right;\n",
       "    }\n",
       "</style>\n",
       "<table border=\"1\" class=\"dataframe\">\n",
       "  <thead>\n",
       "    <tr style=\"text-align: right;\">\n",
       "      <th></th>\n",
       "      <th>Ones</th>\n",
       "      <th>0</th>\n",
       "    </tr>\n",
       "  </thead>\n",
       "  <tbody>\n",
       "    <tr>\n",
       "      <th>0</th>\n",
       "      <td>1.0</td>\n",
       "      <td>-1.714816</td>\n",
       "    </tr>\n",
       "    <tr>\n",
       "      <th>1</th>\n",
       "      <td>1.0</td>\n",
       "      <td>-1.680173</td>\n",
       "    </tr>\n",
       "    <tr>\n",
       "      <th>2</th>\n",
       "      <td>1.0</td>\n",
       "      <td>-1.645531</td>\n",
       "    </tr>\n",
       "    <tr>\n",
       "      <th>3</th>\n",
       "      <td>1.0</td>\n",
       "      <td>-1.610888</td>\n",
       "    </tr>\n",
       "    <tr>\n",
       "      <th>4</th>\n",
       "      <td>1.0</td>\n",
       "      <td>-1.576245</td>\n",
       "    </tr>\n",
       "    <tr>\n",
       "      <th>...</th>\n",
       "      <td>...</td>\n",
       "      <td>...</td>\n",
       "    </tr>\n",
       "    <tr>\n",
       "      <th>95</th>\n",
       "      <td>1.0</td>\n",
       "      <td>1.576245</td>\n",
       "    </tr>\n",
       "    <tr>\n",
       "      <th>96</th>\n",
       "      <td>1.0</td>\n",
       "      <td>1.610888</td>\n",
       "    </tr>\n",
       "    <tr>\n",
       "      <th>97</th>\n",
       "      <td>1.0</td>\n",
       "      <td>1.645531</td>\n",
       "    </tr>\n",
       "    <tr>\n",
       "      <th>98</th>\n",
       "      <td>1.0</td>\n",
       "      <td>1.680173</td>\n",
       "    </tr>\n",
       "    <tr>\n",
       "      <th>99</th>\n",
       "      <td>1.0</td>\n",
       "      <td>1.714816</td>\n",
       "    </tr>\n",
       "  </tbody>\n",
       "</table>\n",
       "<p>100 rows × 2 columns</p>\n",
       "</div>"
      ],
      "text/plain": [
       "    Ones         0\n",
       "0    1.0 -1.714816\n",
       "1    1.0 -1.680173\n",
       "2    1.0 -1.645531\n",
       "3    1.0 -1.610888\n",
       "4    1.0 -1.576245\n",
       "..   ...       ...\n",
       "95   1.0  1.576245\n",
       "96   1.0  1.610888\n",
       "97   1.0  1.645531\n",
       "98   1.0  1.680173\n",
       "99   1.0  1.714816\n",
       "\n",
       "[100 rows x 2 columns]"
      ]
     },
     "execution_count": 9,
     "metadata": {},
     "output_type": "execute_result"
    }
   ],
   "source": [
    "X_scaled=pd.DataFrame(X_scaled)\n",
    "#Adding a column of Ones\n",
    "X_scaled.insert(loc=0,value=1.0,name='Ones')\n",
    "X_scaled"
   ]
  },
  {
   "cell_type": "code",
   "execution_count": 10,
   "id": "b9580d37-44c3-4e73-887c-c2b15d028087",
   "metadata": {},
   "outputs": [],
   "source": [
    "#Y=pd.DataFrame(Y)"
   ]
  },
  {
   "cell_type": "code",
   "execution_count": 11,
   "id": "dbe1cecb-7a06-40b2-8a9d-648979aab4a6",
   "metadata": {},
   "outputs": [],
   "source": [
    "#train-test_split\n",
    "from cuml.model_selection import train_test_split\n",
    "X_train,X_test,Y_train,Y_test=train_test_split(X_scaled,Y,test_size=0.30,random_state=42)"
   ]
  },
  {
   "cell_type": "code",
   "execution_count": 12,
   "id": "74283151-3771-48b7-b83a-3482bc6ecaa0",
   "metadata": {},
   "outputs": [],
   "source": [
    "#finding beta's using LSE\n",
    "A=X_train.values.T.dot(X_train.values)\n",
    "B=np.linalg.inv(A)\n",
    "C=B.dot(X_train.values.T)\n",
    "beta=C.dot(Y_train.values)"
   ]
  },
  {
   "cell_type": "code",
   "execution_count": 13,
   "id": "0d13ea01-5c42-4d0c-aff6-9dd381475529",
   "metadata": {},
   "outputs": [
    {
     "data": {
      "text/plain": [
       "array([-0.01032002, -0.06573132])"
      ]
     },
     "execution_count": 13,
     "metadata": {},
     "output_type": "execute_result"
    }
   ],
   "source": [
    "beta"
   ]
  },
  {
   "cell_type": "code",
   "execution_count": 14,
   "id": "6ed2cd93-8785-4303-9e24-7928ba71c72b",
   "metadata": {},
   "outputs": [
    {
     "data": {
      "text/plain": [
       "-0.05702010097418708"
      ]
     },
     "execution_count": 14,
     "metadata": {},
     "output_type": "execute_result"
    }
   ],
   "source": [
    "#Predicting and Testing\n",
    "Y_predict=X_test.values.dot(beta)\n",
    "from cuml import metrics\n",
    "metrics.r2_score(Y_test,Y_predict)"
   ]
  },
  {
   "cell_type": "code",
   "execution_count": 15,
   "id": "5e5e37aa-e9ec-429c-83cb-1796a3b4d4cc",
   "metadata": {},
   "outputs": [],
   "source": [
    "#The fit model is underfit as it shows a low R2 score. So fiiting a higher order polynomial function of order 5"
   ]
  },
  {
   "cell_type": "code",
   "execution_count": 16,
   "id": "cb2a7ed7-05b9-4725-add1-67aeb1db0eb0",
   "metadata": {},
   "outputs": [
    {
     "data": {
      "text/html": [
       "<div>\n",
       "<style scoped>\n",
       "    .dataframe tbody tr th:only-of-type {\n",
       "        vertical-align: middle;\n",
       "    }\n",
       "\n",
       "    .dataframe tbody tr th {\n",
       "        vertical-align: top;\n",
       "    }\n",
       "\n",
       "    .dataframe thead th {\n",
       "        text-align: right;\n",
       "    }\n",
       "</style>\n",
       "<table border=\"1\" class=\"dataframe\">\n",
       "  <thead>\n",
       "    <tr style=\"text-align: right;\">\n",
       "      <th></th>\n",
       "      <th>0</th>\n",
       "      <th>1</th>\n",
       "      <th>2</th>\n",
       "      <th>3</th>\n",
       "      <th>4</th>\n",
       "      <th>5</th>\n",
       "      <th>6</th>\n",
       "      <th>7</th>\n",
       "      <th>8</th>\n",
       "      <th>9</th>\n",
       "      <th>...</th>\n",
       "      <th>41</th>\n",
       "      <th>42</th>\n",
       "      <th>43</th>\n",
       "      <th>44</th>\n",
       "      <th>45</th>\n",
       "      <th>46</th>\n",
       "      <th>47</th>\n",
       "      <th>48</th>\n",
       "      <th>49</th>\n",
       "      <th>50</th>\n",
       "    </tr>\n",
       "  </thead>\n",
       "  <tbody>\n",
       "    <tr>\n",
       "      <th>0</th>\n",
       "      <td>1.0</td>\n",
       "      <td>60.0</td>\n",
       "      <td>3600.0</td>\n",
       "      <td>216000.0</td>\n",
       "      <td>1.296000e+07</td>\n",
       "      <td>7.776000e+08</td>\n",
       "      <td>4.665600e+10</td>\n",
       "      <td>2.799360e+12</td>\n",
       "      <td>1.679616e+14</td>\n",
       "      <td>1.007770e+16</td>\n",
       "      <td>...</td>\n",
       "      <td>8.020497e+72</td>\n",
       "      <td>4.812298e+74</td>\n",
       "      <td>2.887379e+76</td>\n",
       "      <td>1.732427e+78</td>\n",
       "      <td>1.039456e+80</td>\n",
       "      <td>6.236738e+81</td>\n",
       "      <td>3.742043e+83</td>\n",
       "      <td>2.245226e+85</td>\n",
       "      <td>1.347135e+87</td>\n",
       "      <td>8.082813e+88</td>\n",
       "    </tr>\n",
       "    <tr>\n",
       "      <th>1</th>\n",
       "      <td>1.0</td>\n",
       "      <td>63.0</td>\n",
       "      <td>3969.0</td>\n",
       "      <td>250047.0</td>\n",
       "      <td>1.575296e+07</td>\n",
       "      <td>9.924365e+08</td>\n",
       "      <td>6.252350e+10</td>\n",
       "      <td>3.938981e+12</td>\n",
       "      <td>2.481558e+14</td>\n",
       "      <td>1.563381e+16</td>\n",
       "      <td>...</td>\n",
       "      <td>5.928742e+73</td>\n",
       "      <td>3.735107e+75</td>\n",
       "      <td>2.353118e+77</td>\n",
       "      <td>1.482464e+79</td>\n",
       "      <td>9.339524e+80</td>\n",
       "      <td>5.883900e+82</td>\n",
       "      <td>3.706857e+84</td>\n",
       "      <td>2.335320e+86</td>\n",
       "      <td>1.471252e+88</td>\n",
       "      <td>9.268885e+89</td>\n",
       "    </tr>\n",
       "    <tr>\n",
       "      <th>2</th>\n",
       "      <td>1.0</td>\n",
       "      <td>66.0</td>\n",
       "      <td>4356.0</td>\n",
       "      <td>287496.0</td>\n",
       "      <td>1.897474e+07</td>\n",
       "      <td>1.252333e+09</td>\n",
       "      <td>8.265395e+10</td>\n",
       "      <td>5.455161e+12</td>\n",
       "      <td>3.600406e+14</td>\n",
       "      <td>2.376268e+16</td>\n",
       "      <td>...</td>\n",
       "      <td>3.993019e+74</td>\n",
       "      <td>2.635392e+76</td>\n",
       "      <td>1.739359e+78</td>\n",
       "      <td>1.147977e+80</td>\n",
       "      <td>7.576648e+81</td>\n",
       "      <td>5.000588e+83</td>\n",
       "      <td>3.300388e+85</td>\n",
       "      <td>2.178256e+87</td>\n",
       "      <td>1.437649e+89</td>\n",
       "      <td>9.488483e+90</td>\n",
       "    </tr>\n",
       "    <tr>\n",
       "      <th>3</th>\n",
       "      <td>1.0</td>\n",
       "      <td>69.0</td>\n",
       "      <td>4761.0</td>\n",
       "      <td>328509.0</td>\n",
       "      <td>2.266712e+07</td>\n",
       "      <td>1.564031e+09</td>\n",
       "      <td>1.079182e+11</td>\n",
       "      <td>7.446353e+12</td>\n",
       "      <td>5.137984e+14</td>\n",
       "      <td>3.545209e+16</td>\n",
       "      <td>...</td>\n",
       "      <td>2.470658e+75</td>\n",
       "      <td>1.704754e+77</td>\n",
       "      <td>1.176281e+79</td>\n",
       "      <td>8.116336e+80</td>\n",
       "      <td>5.600272e+82</td>\n",
       "      <td>3.864187e+84</td>\n",
       "      <td>2.666289e+86</td>\n",
       "      <td>1.839740e+88</td>\n",
       "      <td>1.269420e+90</td>\n",
       "      <td>8.759000e+91</td>\n",
       "    </tr>\n",
       "    <tr>\n",
       "      <th>4</th>\n",
       "      <td>1.0</td>\n",
       "      <td>72.0</td>\n",
       "      <td>5184.0</td>\n",
       "      <td>373248.0</td>\n",
       "      <td>2.687386e+07</td>\n",
       "      <td>1.934918e+09</td>\n",
       "      <td>1.393141e+11</td>\n",
       "      <td>1.003061e+13</td>\n",
       "      <td>7.222041e+14</td>\n",
       "      <td>5.199870e+16</td>\n",
       "      <td>...</td>\n",
       "      <td>1.414596e+76</td>\n",
       "      <td>1.018509e+78</td>\n",
       "      <td>7.333264e+79</td>\n",
       "      <td>5.279950e+81</td>\n",
       "      <td>3.801564e+83</td>\n",
       "      <td>2.737126e+85</td>\n",
       "      <td>1.970731e+87</td>\n",
       "      <td>1.418926e+89</td>\n",
       "      <td>1.021627e+91</td>\n",
       "      <td>7.355714e+92</td>\n",
       "    </tr>\n",
       "    <tr>\n",
       "      <th>...</th>\n",
       "      <td>...</td>\n",
       "      <td>...</td>\n",
       "      <td>...</td>\n",
       "      <td>...</td>\n",
       "      <td>...</td>\n",
       "      <td>...</td>\n",
       "      <td>...</td>\n",
       "      <td>...</td>\n",
       "      <td>...</td>\n",
       "      <td>...</td>\n",
       "      <td>...</td>\n",
       "      <td>...</td>\n",
       "      <td>...</td>\n",
       "      <td>...</td>\n",
       "      <td>...</td>\n",
       "      <td>...</td>\n",
       "      <td>...</td>\n",
       "      <td>...</td>\n",
       "      <td>...</td>\n",
       "      <td>...</td>\n",
       "      <td>...</td>\n",
       "    </tr>\n",
       "    <tr>\n",
       "      <th>95</th>\n",
       "      <td>1.0</td>\n",
       "      <td>345.0</td>\n",
       "      <td>119025.0</td>\n",
       "      <td>41063625.0</td>\n",
       "      <td>1.416695e+10</td>\n",
       "      <td>4.887598e+12</td>\n",
       "      <td>1.686221e+15</td>\n",
       "      <td>5.817463e+17</td>\n",
       "      <td>2.007025e+20</td>\n",
       "      <td>6.924236e+22</td>\n",
       "      <td>...</td>\n",
       "      <td>1.123525e+104</td>\n",
       "      <td>3.876163e+106</td>\n",
       "      <td>1.337276e+109</td>\n",
       "      <td>4.613603e+111</td>\n",
       "      <td>1.591693e+114</td>\n",
       "      <td>5.491340e+116</td>\n",
       "      <td>1.894512e+119</td>\n",
       "      <td>6.536068e+121</td>\n",
       "      <td>2.254943e+124</td>\n",
       "      <td>7.779555e+126</td>\n",
       "    </tr>\n",
       "    <tr>\n",
       "      <th>96</th>\n",
       "      <td>1.0</td>\n",
       "      <td>348.0</td>\n",
       "      <td>121104.0</td>\n",
       "      <td>42144192.0</td>\n",
       "      <td>1.466618e+10</td>\n",
       "      <td>5.103830e+12</td>\n",
       "      <td>1.776133e+15</td>\n",
       "      <td>6.180943e+17</td>\n",
       "      <td>2.150968e+20</td>\n",
       "      <td>7.485369e+22</td>\n",
       "      <td>...</td>\n",
       "      <td>1.602319e+104</td>\n",
       "      <td>5.576070e+106</td>\n",
       "      <td>1.940472e+109</td>\n",
       "      <td>6.752844e+111</td>\n",
       "      <td>2.349990e+114</td>\n",
       "      <td>8.177965e+116</td>\n",
       "      <td>2.845932e+119</td>\n",
       "      <td>9.903842e+121</td>\n",
       "      <td>3.446537e+124</td>\n",
       "      <td>1.199395e+127</td>\n",
       "    </tr>\n",
       "    <tr>\n",
       "      <th>97</th>\n",
       "      <td>1.0</td>\n",
       "      <td>351.0</td>\n",
       "      <td>123201.0</td>\n",
       "      <td>43243551.0</td>\n",
       "      <td>1.517849e+10</td>\n",
       "      <td>5.327649e+12</td>\n",
       "      <td>1.870005e+15</td>\n",
       "      <td>6.563717e+17</td>\n",
       "      <td>2.303864e+20</td>\n",
       "      <td>8.086564e+22</td>\n",
       "      <td>...</td>\n",
       "      <td>2.278200e+104</td>\n",
       "      <td>7.996481e+106</td>\n",
       "      <td>2.806765e+109</td>\n",
       "      <td>9.851744e+111</td>\n",
       "      <td>3.457962e+114</td>\n",
       "      <td>1.213745e+117</td>\n",
       "      <td>4.260244e+119</td>\n",
       "      <td>1.495346e+122</td>\n",
       "      <td>5.248663e+124</td>\n",
       "      <td>1.842281e+127</td>\n",
       "    </tr>\n",
       "    <tr>\n",
       "      <th>98</th>\n",
       "      <td>1.0</td>\n",
       "      <td>354.0</td>\n",
       "      <td>125316.0</td>\n",
       "      <td>44361864.0</td>\n",
       "      <td>1.570410e+10</td>\n",
       "      <td>5.559251e+12</td>\n",
       "      <td>1.967975e+15</td>\n",
       "      <td>6.966631e+17</td>\n",
       "      <td>2.466188e+20</td>\n",
       "      <td>8.730304e+22</td>\n",
       "      <td>...</td>\n",
       "      <td>3.229489e+104</td>\n",
       "      <td>1.143239e+107</td>\n",
       "      <td>4.047066e+109</td>\n",
       "      <td>1.432661e+112</td>\n",
       "      <td>5.071621e+114</td>\n",
       "      <td>1.795354e+117</td>\n",
       "      <td>6.355553e+119</td>\n",
       "      <td>2.249866e+122</td>\n",
       "      <td>7.964524e+124</td>\n",
       "      <td>2.819442e+127</td>\n",
       "    </tr>\n",
       "    <tr>\n",
       "      <th>99</th>\n",
       "      <td>1.0</td>\n",
       "      <td>357.0</td>\n",
       "      <td>127449.0</td>\n",
       "      <td>45499293.0</td>\n",
       "      <td>1.624325e+10</td>\n",
       "      <td>5.798839e+12</td>\n",
       "      <td>2.070186e+15</td>\n",
       "      <td>7.390563e+17</td>\n",
       "      <td>2.638431e+20</td>\n",
       "      <td>9.419198e+22</td>\n",
       "      <td>...</td>\n",
       "      <td>4.564538e+104</td>\n",
       "      <td>1.629540e+107</td>\n",
       "      <td>5.817458e+109</td>\n",
       "      <td>2.076833e+112</td>\n",
       "      <td>7.414293e+114</td>\n",
       "      <td>2.646902e+117</td>\n",
       "      <td>9.449442e+119</td>\n",
       "      <td>3.373451e+122</td>\n",
       "      <td>1.204322e+125</td>\n",
       "      <td>4.299429e+127</td>\n",
       "    </tr>\n",
       "  </tbody>\n",
       "</table>\n",
       "<p>100 rows × 51 columns</p>\n",
       "</div>"
      ],
      "text/plain": [
       "     0      1         2           3             4             5   \\\n",
       "0   1.0   60.0    3600.0    216000.0  1.296000e+07  7.776000e+08   \n",
       "1   1.0   63.0    3969.0    250047.0  1.575296e+07  9.924365e+08   \n",
       "2   1.0   66.0    4356.0    287496.0  1.897474e+07  1.252333e+09   \n",
       "3   1.0   69.0    4761.0    328509.0  2.266712e+07  1.564031e+09   \n",
       "4   1.0   72.0    5184.0    373248.0  2.687386e+07  1.934918e+09   \n",
       "..  ...    ...       ...         ...           ...           ...   \n",
       "95  1.0  345.0  119025.0  41063625.0  1.416695e+10  4.887598e+12   \n",
       "96  1.0  348.0  121104.0  42144192.0  1.466618e+10  5.103830e+12   \n",
       "97  1.0  351.0  123201.0  43243551.0  1.517849e+10  5.327649e+12   \n",
       "98  1.0  354.0  125316.0  44361864.0  1.570410e+10  5.559251e+12   \n",
       "99  1.0  357.0  127449.0  45499293.0  1.624325e+10  5.798839e+12   \n",
       "\n",
       "              6             7             8             9   ...  \\\n",
       "0   4.665600e+10  2.799360e+12  1.679616e+14  1.007770e+16  ...   \n",
       "1   6.252350e+10  3.938981e+12  2.481558e+14  1.563381e+16  ...   \n",
       "2   8.265395e+10  5.455161e+12  3.600406e+14  2.376268e+16  ...   \n",
       "3   1.079182e+11  7.446353e+12  5.137984e+14  3.545209e+16  ...   \n",
       "4   1.393141e+11  1.003061e+13  7.222041e+14  5.199870e+16  ...   \n",
       "..           ...           ...           ...           ...  ...   \n",
       "95  1.686221e+15  5.817463e+17  2.007025e+20  6.924236e+22  ...   \n",
       "96  1.776133e+15  6.180943e+17  2.150968e+20  7.485369e+22  ...   \n",
       "97  1.870005e+15  6.563717e+17  2.303864e+20  8.086564e+22  ...   \n",
       "98  1.967975e+15  6.966631e+17  2.466188e+20  8.730304e+22  ...   \n",
       "99  2.070186e+15  7.390563e+17  2.638431e+20  9.419198e+22  ...   \n",
       "\n",
       "               41             42             43             44             45  \\\n",
       "0    8.020497e+72   4.812298e+74   2.887379e+76   1.732427e+78   1.039456e+80   \n",
       "1    5.928742e+73   3.735107e+75   2.353118e+77   1.482464e+79   9.339524e+80   \n",
       "2    3.993019e+74   2.635392e+76   1.739359e+78   1.147977e+80   7.576648e+81   \n",
       "3    2.470658e+75   1.704754e+77   1.176281e+79   8.116336e+80   5.600272e+82   \n",
       "4    1.414596e+76   1.018509e+78   7.333264e+79   5.279950e+81   3.801564e+83   \n",
       "..            ...            ...            ...            ...            ...   \n",
       "95  1.123525e+104  3.876163e+106  1.337276e+109  4.613603e+111  1.591693e+114   \n",
       "96  1.602319e+104  5.576070e+106  1.940472e+109  6.752844e+111  2.349990e+114   \n",
       "97  2.278200e+104  7.996481e+106  2.806765e+109  9.851744e+111  3.457962e+114   \n",
       "98  3.229489e+104  1.143239e+107  4.047066e+109  1.432661e+112  5.071621e+114   \n",
       "99  4.564538e+104  1.629540e+107  5.817458e+109  2.076833e+112  7.414293e+114   \n",
       "\n",
       "               46             47             48             49             50  \n",
       "0    6.236738e+81   3.742043e+83   2.245226e+85   1.347135e+87   8.082813e+88  \n",
       "1    5.883900e+82   3.706857e+84   2.335320e+86   1.471252e+88   9.268885e+89  \n",
       "2    5.000588e+83   3.300388e+85   2.178256e+87   1.437649e+89   9.488483e+90  \n",
       "3    3.864187e+84   2.666289e+86   1.839740e+88   1.269420e+90   8.759000e+91  \n",
       "4    2.737126e+85   1.970731e+87   1.418926e+89   1.021627e+91   7.355714e+92  \n",
       "..            ...            ...            ...            ...            ...  \n",
       "95  5.491340e+116  1.894512e+119  6.536068e+121  2.254943e+124  7.779555e+126  \n",
       "96  8.177965e+116  2.845932e+119  9.903842e+121  3.446537e+124  1.199395e+127  \n",
       "97  1.213745e+117  4.260244e+119  1.495346e+122  5.248663e+124  1.842281e+127  \n",
       "98  1.795354e+117  6.355553e+119  2.249866e+122  7.964524e+124  2.819442e+127  \n",
       "99  2.646902e+117  9.449442e+119  3.373451e+122  1.204322e+125  4.299429e+127  \n",
       "\n",
       "[100 rows x 51 columns]"
      ]
     },
     "execution_count": 16,
     "metadata": {},
     "output_type": "execute_result"
    }
   ],
   "source": [
    "#adding powers of X\n",
    "from cuml.preprocessing import PolynomialFeatures\n",
    "pf=PolynomialFeatures(50)\n",
    "X50=pf.fit_transform(pd.DataFrame(X))\n",
    "X50"
   ]
  },
  {
   "cell_type": "code",
   "execution_count": 17,
   "id": "b593faa3-7486-46c4-91d2-c3d575872bd8",
   "metadata": {},
   "outputs": [],
   "source": [
    "#scaling features\n",
    "ss1=StandardScaler()\n",
    "X5_scaled=ss1.fit_transform(X50.iloc[:,1:])"
   ]
  },
  {
   "cell_type": "code",
   "execution_count": 18,
   "id": "ae4d7e8d-1858-44d3-a3fd-5b1b57995f42",
   "metadata": {},
   "outputs": [],
   "source": [
    "#Inserting columns of One\n",
    "X5_scaled.insert(loc=0,value=1.0,name='Ones')"
   ]
  },
  {
   "cell_type": "code",
   "execution_count": 19,
   "id": "4da7eec1-9863-4a28-afde-2963e81f41ae",
   "metadata": {},
   "outputs": [],
   "source": [
    "#Train -Test Split\n",
    "from cuml.model_selection import train_test_split\n",
    "X_train1,X_test1,Y_train1,Y_test1=train_test_split(X5_scaled,Y,test_size=0.30,random_state=42)"
   ]
  },
  {
   "cell_type": "code",
   "execution_count": null,
   "id": "abf49b1f-9ae4-4378-9c00-68d5b52fcf4e",
   "metadata": {},
   "outputs": [],
   "source": [
    "#Finding beta's for 5th order hypothesis function\n",
    "A=X_train1.values.T.dot(X_train1.values)\n",
    "B=np.linalg.inv(A)\n",
    "C=B.dot(X_train1.values.T)\n",
    "beta1=C.dot(Y_train1.values)"
   ]
  },
  {
   "cell_type": "code",
   "execution_count": 23,
   "id": "e337169d-4afe-4a45-a2be-6b6507e0e388",
   "metadata": {},
   "outputs": [
    {
     "data": {
      "text/plain": [
       "array([-1.09163661e-04,  7.65086692e+03, -8.79759683e+04,  4.56484451e+05,\n",
       "       -1.28807305e+06,  1.88677926e+06, -8.47938323e+05, -9.58963157e+05,\n",
       "        5.94000974e+05,  1.10832745e+05,  2.33057486e+06, -3.05788324e+06,\n",
       "        4.70315431e+05, -5.45570070e+05, -6.00244366e+05,  2.72167985e+06,\n",
       "        1.06941034e+06, -1.15913115e+06, -3.01264702e+06,  2.72055733e+06,\n",
       "       -2.83294943e+06,  1.56683690e+06, -3.76352399e+05,  9.01184183e+05,\n",
       "        2.71004162e+06, -2.36346839e+06,  1.63343793e+05, -1.03076621e+06,\n",
       "       -5.51140951e+05, -7.85754618e+05,  2.39726958e+06, -1.20628969e+05,\n",
       "       -1.14789132e+05,  4.53098783e+05, -6.71980429e+05, -1.21954472e+06,\n",
       "        4.51164144e+05,  3.62400789e+05,  1.33322451e+05,  1.48906154e+06,\n",
       "       -9.55728712e+05, -3.54883915e+05, -1.45879241e+06,  2.38136437e+06,\n",
       "       -1.66917058e+06,  1.40815595e+06, -4.18515148e+05, -1.36528706e+06,\n",
       "        9.93726423e+05,  5.01022140e+05, -4.32099865e+05])"
      ]
     },
     "execution_count": 23,
     "metadata": {},
     "output_type": "execute_result"
    }
   ],
   "source": [
    "beta1"
   ]
  },
  {
   "cell_type": "code",
   "execution_count": 24,
   "id": "01008510-a858-46dd-9f2b-44309f1ebb74",
   "metadata": {},
   "outputs": [
    {
     "data": {
      "text/plain": [
       "-0.1637105093206328"
      ]
     },
     "execution_count": 24,
     "metadata": {},
     "output_type": "execute_result"
    }
   ],
   "source": [
    "#prediciting and testing\n",
    "Y_predict1=X_test1.values.dot(beta1)\n",
    "from cuml import metrics\n",
    "metrics.r2_score(Y_test1,Y_predict1)"
   ]
  },
  {
   "cell_type": "code",
   "execution_count": 27,
   "id": "0c58af12-1da7-4ff5-b988-054409eea5b3",
   "metadata": {},
   "outputs": [
    {
     "data": {
      "text/plain": [
       "array([-8.31021338e-04,  1.52279983e-03,  1.61683979e-03,  1.62084273e-03,\n",
       "        1.54492908e-03,  1.41783079e-03,  1.26296236e-03,  1.09553895e-03,\n",
       "        9.25100556e-04,  7.57865553e-04,  5.98078828e-04,  4.48676748e-04,\n",
       "        3.11621565e-04,  1.88103174e-04,  7.86927082e-05, -1.65242596e-05,\n",
       "       -9.78294939e-05, -1.65769724e-04, -2.21071253e-04, -2.64571397e-04,\n",
       "       -2.97165392e-04, -3.19766697e-04, -3.33278397e-04, -3.38573439e-04,\n",
       "       -3.36481733e-04, -3.27782395e-04, -3.13199786e-04, -2.93402249e-04,\n",
       "       -2.69002728e-04, -2.40560629e-04, -2.08584481e-04, -1.73535039e-04,\n",
       "       -1.35828623e-04, -9.58404965e-05, -5.39082021e-05, -1.03347635e-05,\n",
       "        3.46082778e-05,  8.06780210e-05,  1.27657567e-04,  1.75353583e-04,\n",
       "        2.23594069e-04,  2.72226308e-04,  3.21115006e-04,  3.70140586e-04,\n",
       "        4.19197646e-04,  4.68193559e-04,  5.17047197e-04,  5.65687779e-04,\n",
       "        6.14053829e-04,  6.62092228e-04,  7.09757358e-04])"
      ]
     },
     "execution_count": 27,
     "metadata": {},
     "output_type": "execute_result"
    }
   ],
   "source": [
    "#finding beta's with ridge regression\n",
    "lamda=1000\n",
    "A=X_train1.values.T.dot(X_train1.values)\n",
    "I=np.identity(A.shape[0])\n",
    "A1=np.add(A,lamda*I)\n",
    "B=np.linalg.inv(A1)\n",
    "C=B.dot(X_train1.values.T)\n",
    "beta2=C.dot(Y_train1.values)\n",
    "beta2"
   ]
  },
  {
   "cell_type": "code",
   "execution_count": 28,
   "id": "cd8b0a2a-54b4-45e4-9ffe-ac3185b7e442",
   "metadata": {},
   "outputs": [
    {
     "data": {
      "text/plain": [
       "-0.0025586042110545826"
      ]
     },
     "execution_count": 28,
     "metadata": {},
     "output_type": "execute_result"
    }
   ],
   "source": [
    "#Predicting and Testing\n",
    "Y_predict=X_test1.values.dot(beta2)\n",
    "from cuml import metrics\n",
    "metrics.r2_score(Y_test1,Y_predict)"
   ]
  },
  {
   "cell_type": "code",
   "execution_count": null,
   "id": "7b1ca95c-1696-4502-9311-775301b22b5a",
   "metadata": {},
   "outputs": [],
   "source": [
    "#Question 2 starts from here"
   ]
  },
  {
   "cell_type": "code",
   "execution_count": 1,
   "id": "c22f15d4-784c-41c6-b46b-808a92807bb8",
   "metadata": {},
   "outputs": [],
   "source": [
    "import pandas"
   ]
  },
  {
   "cell_type": "code",
   "execution_count": 25,
   "id": "7f59c4e4-335a-4e12-a31e-78651c1fb944",
   "metadata": {},
   "outputs": [
    {
     "name": "stdout",
     "output_type": "stream",
     "text": [
      "Archive:  archive.zip\n",
      "  inflating: IMDB Dataset.csv        \n"
     ]
    }
   ],
   "source": [
    "!unzip \"archive.zip\""
   ]
  },
  {
   "cell_type": "code",
   "execution_count": 3,
   "id": "0f04a11a-981b-472c-86fd-4ab907059bbc",
   "metadata": {},
   "outputs": [],
   "source": [
    "#Laod first 1ooo rows of IMDB Dataset\n",
    "df=pd.read_csv('IMDB_Dataset.csv',nrows=1000)"
   ]
  },
  {
   "cell_type": "code",
   "execution_count": 4,
   "id": "9a0ec327-6677-4810-851d-6342fbb7a966",
   "metadata": {},
   "outputs": [
    {
     "data": {
      "text/html": [
       "<div>\n",
       "<style scoped>\n",
       "    .dataframe tbody tr th:only-of-type {\n",
       "        vertical-align: middle;\n",
       "    }\n",
       "\n",
       "    .dataframe tbody tr th {\n",
       "        vertical-align: top;\n",
       "    }\n",
       "\n",
       "    .dataframe thead th {\n",
       "        text-align: right;\n",
       "    }\n",
       "</style>\n",
       "<table border=\"1\" class=\"dataframe\">\n",
       "  <thead>\n",
       "    <tr style=\"text-align: right;\">\n",
       "      <th></th>\n",
       "      <th>review</th>\n",
       "      <th>sentiment</th>\n",
       "    </tr>\n",
       "  </thead>\n",
       "  <tbody>\n",
       "    <tr>\n",
       "      <th>0</th>\n",
       "      <td>One of the other reviewers has mentioned that ...</td>\n",
       "      <td>positive</td>\n",
       "    </tr>\n",
       "    <tr>\n",
       "      <th>1</th>\n",
       "      <td>A wonderful little production. &lt;br /&gt;&lt;br /&gt;The...</td>\n",
       "      <td>positive</td>\n",
       "    </tr>\n",
       "    <tr>\n",
       "      <th>2</th>\n",
       "      <td>I thought this was a wonderful way to spend ti...</td>\n",
       "      <td>positive</td>\n",
       "    </tr>\n",
       "    <tr>\n",
       "      <th>3</th>\n",
       "      <td>Basically there's a family where a little boy ...</td>\n",
       "      <td>negative</td>\n",
       "    </tr>\n",
       "    <tr>\n",
       "      <th>4</th>\n",
       "      <td>Petter Mattei's \"Love in the Time of Money\" is...</td>\n",
       "      <td>positive</td>\n",
       "    </tr>\n",
       "  </tbody>\n",
       "</table>\n",
       "</div>"
      ],
      "text/plain": [
       "                                              review sentiment\n",
       "0  One of the other reviewers has mentioned that ...  positive\n",
       "1  A wonderful little production. <br /><br />The...  positive\n",
       "2  I thought this was a wonderful way to spend ti...  positive\n",
       "3  Basically there's a family where a little boy ...  negative\n",
       "4  Petter Mattei's \"Love in the Time of Money\" is...  positive"
      ]
     },
     "execution_count": 4,
     "metadata": {},
     "output_type": "execute_result"
    }
   ],
   "source": [
    "df.head()"
   ]
  },
  {
   "cell_type": "code",
   "execution_count": 5,
   "id": "a607c62a-c1a7-4bad-a04f-77f87ef846eb",
   "metadata": {},
   "outputs": [],
   "source": [
    "#Create a list of list named Corpus whose each list is a review (document) from IMDB dataset\n",
    "corpus=[]\n",
    "for i in range(len(df)):\n",
    "    corpus.append(df['review'][i])"
   ]
  },
  {
   "cell_type": "code",
   "execution_count": 6,
   "id": "f89b8ad1-5c5c-4677-9943-7ce859a2fae9",
   "metadata": {},
   "outputs": [
    {
     "data": {
      "text/plain": [
       "'Phil the Alien is one of those quirky films where the humour is based around the oddness of everything rather than actual punchlines.<br /><br />At first it was very odd and pretty funny but as the movie progressed I didn\\'t find the jokes or oddness funny anymore.<br /><br />Its a low budget film (thats never a problem in itself), there were some pretty interesting characters, but eventually I just lost interest.<br /><br />I imagine this film would appeal to a stoner who is currently partaking.<br /><br />For something similar but better try \"Brother from another planet\"'"
      ]
     },
     "execution_count": 6,
     "metadata": {},
     "output_type": "execute_result"
    }
   ],
   "source": [
    "corpus[10]"
   ]
  },
  {
   "cell_type": "code",
   "execution_count": 7,
   "id": "17640fe2-b134-422f-a721-96a0ac595fe4",
   "metadata": {},
   "outputs": [],
   "source": [
    "# remove non-aplha characters and converting words to lower case in each document\n",
    "corpus_final=[]\n",
    "for i in range(len(corpus)):\n",
    "    corpus_final.append(\" \".join([word.lower() for word in corpus[i].split() if word.isalpha()]))"
   ]
  },
  {
   "cell_type": "code",
   "execution_count": 8,
   "id": "de717804-becd-4d00-aef4-3af3bc5d6972",
   "metadata": {},
   "outputs": [
    {
     "data": {
      "text/plain": [
       "'phil the alien is one of those quirky films where the humour is based around the oddness of everything rather than actual first it was very odd and pretty funny but as the movie progressed i find the jokes or oddness funny a low budget film never a problem in there were some pretty interesting but eventually i just lost imagine this film would appeal to a stoner who is currently something similar but better try from another'"
      ]
     },
     "execution_count": 8,
     "metadata": {},
     "output_type": "execute_result"
    }
   ],
   "source": [
    "corpus_final[10]"
   ]
  },
  {
   "cell_type": "code",
   "execution_count": 9,
   "id": "e6ef56de-9e50-4ee8-b5d7-844ae179da64",
   "metadata": {},
   "outputs": [],
   "source": [
    "#creating binary bow vector as dictionary of dictionary\n",
    "#Each external dictionary will have key as document number and internal dictionaries have the keys as the word present in the document\n",
    "document_frequency={}\n",
    "for i in range(len(corpus_final)):\n",
    "    word_frequency={}\n",
    "    for word in corpus_final[i].split():\n",
    "        word_frequency[word]=1\n",
    "    document_frequency[i]=word_frequency"
   ]
  },
  {
   "cell_type": "code",
   "execution_count": 10,
   "id": "958db595-46be-47ac-8311-ee96b486a9ed",
   "metadata": {},
   "outputs": [
    {
     "data": {
      "text/plain": [
       "{'one': 1,\n",
       " 'of': 1,\n",
       " 'the': 1,\n",
       " 'other': 1,\n",
       " 'reviewers': 1,\n",
       " 'has': 1,\n",
       " 'mentioned': 1,\n",
       " 'that': 1,\n",
       " 'after': 1,\n",
       " 'watching': 1,\n",
       " 'just': 1,\n",
       " 'oz': 1,\n",
       " 'episode': 1,\n",
       " 'be': 1,\n",
       " 'they': 1,\n",
       " 'are': 1,\n",
       " 'as': 1,\n",
       " 'this': 1,\n",
       " 'is': 1,\n",
       " 'exactly': 1,\n",
       " 'what': 1,\n",
       " 'happened': 1,\n",
       " 'with': 1,\n",
       " 'first': 1,\n",
       " 'thing': 1,\n",
       " 'struck': 1,\n",
       " 'me': 1,\n",
       " 'about': 1,\n",
       " 'was': 1,\n",
       " 'its': 1,\n",
       " 'brutality': 1,\n",
       " 'and': 1,\n",
       " 'unflinching': 1,\n",
       " 'scenes': 1,\n",
       " 'which': 1,\n",
       " 'set': 1,\n",
       " 'in': 1,\n",
       " 'right': 1,\n",
       " 'from': 1,\n",
       " 'word': 1,\n",
       " 'trust': 1,\n",
       " 'not': 1,\n",
       " 'a': 1,\n",
       " 'show': 1,\n",
       " 'for': 1,\n",
       " 'faint': 1,\n",
       " 'hearted': 1,\n",
       " 'or': 1,\n",
       " 'pulls': 1,\n",
       " 'no': 1,\n",
       " 'punches': 1,\n",
       " 'regards': 1,\n",
       " 'to': 1,\n",
       " 'sex': 1,\n",
       " 'classic': 1,\n",
       " 'use': 1,\n",
       " 'called': 1,\n",
       " 'nickname': 1,\n",
       " 'given': 1,\n",
       " 'oswald': 1,\n",
       " 'maximum': 1,\n",
       " 'security': 1,\n",
       " 'state': 1,\n",
       " 'it': 1,\n",
       " 'focuses': 1,\n",
       " 'mainly': 1,\n",
       " 'on': 1,\n",
       " 'emerald': 1,\n",
       " 'an': 1,\n",
       " 'experimental': 1,\n",
       " 'section': 1,\n",
       " 'prison': 1,\n",
       " 'where': 1,\n",
       " 'all': 1,\n",
       " 'cells': 1,\n",
       " 'have': 1,\n",
       " 'glass': 1,\n",
       " 'fronts': 1,\n",
       " 'face': 1,\n",
       " 'so': 1,\n",
       " 'privacy': 1,\n",
       " 'high': 1,\n",
       " 'em': 1,\n",
       " 'city': 1,\n",
       " 'home': 1,\n",
       " 'irish': 1,\n",
       " 'death': 1,\n",
       " 'dodgy': 1,\n",
       " 'dealings': 1,\n",
       " 'shady': 1,\n",
       " 'agreements': 1,\n",
       " 'never': 1,\n",
       " 'far': 1,\n",
       " 'would': 1,\n",
       " 'say': 1,\n",
       " 'main': 1,\n",
       " 'appeal': 1,\n",
       " 'due': 1,\n",
       " 'fact': 1,\n",
       " 'goes': 1,\n",
       " 'shows': 1,\n",
       " 'forget': 1,\n",
       " 'pretty': 1,\n",
       " 'pictures': 1,\n",
       " 'painted': 1,\n",
       " 'mainstream': 1,\n",
       " 'mess': 1,\n",
       " 'i': 1,\n",
       " 'ever': 1,\n",
       " 'saw': 1,\n",
       " 'nasty': 1,\n",
       " 'ready': 1,\n",
       " 'but': 1,\n",
       " 'watched': 1,\n",
       " 'developed': 1,\n",
       " 'taste': 1,\n",
       " 'got': 1,\n",
       " 'accustomed': 1,\n",
       " 'levels': 1,\n",
       " 'graphic': 1,\n",
       " 'injustice': 1,\n",
       " 'guards': 1,\n",
       " 'sold': 1,\n",
       " 'out': 1,\n",
       " 'inmates': 1,\n",
       " 'kill': 1,\n",
       " 'order': 1,\n",
       " 'get': 1,\n",
       " 'away': 1,\n",
       " 'well': 1,\n",
       " 'middle': 1,\n",
       " 'class': 1,\n",
       " 'being': 1,\n",
       " 'turned': 1,\n",
       " 'into': 1,\n",
       " 'bitches': 1,\n",
       " 'their': 1,\n",
       " 'lack': 1,\n",
       " 'street': 1,\n",
       " 'skills': 1,\n",
       " 'you': 1,\n",
       " 'may': 1,\n",
       " 'become': 1,\n",
       " 'comfortable': 1,\n",
       " 'uncomfortable': 1,\n",
       " 'if': 1,\n",
       " 'can': 1,\n",
       " 'touch': 1,\n",
       " 'your': 1,\n",
       " 'darker': 1}"
      ]
     },
     "execution_count": 10,
     "metadata": {},
     "output_type": "execute_result"
    }
   ],
   "source": [
    "document_frequency[0]"
   ]
  },
  {
   "cell_type": "code",
   "execution_count": 11,
   "id": "c4117b26-51e8-437b-b12d-152991b1eb0a",
   "metadata": {},
   "outputs": [
    {
     "data": {
      "text/plain": [
       "(14719, 1000)"
      ]
     },
     "execution_count": 11,
     "metadata": {},
     "output_type": "execute_result"
    }
   ],
   "source": [
    "#Converting dicitonaries of dicitonaries into DataFrame; setting NaN as 0 (for terms which are not present in particular docme)\n",
    "bow1=pandas.DataFrame(document_frequency)\n",
    "bow1.fillna(0,inplace=True)\n",
    "bow1.shape"
   ]
  },
  {
   "cell_type": "code",
   "execution_count": 12,
   "id": "e051edf4-1165-4679-9c6b-ba8377f1801a",
   "metadata": {},
   "outputs": [],
   "source": [
    "bow= pd.DataFrame.from_pandas(bow1)"
   ]
  },
  {
   "cell_type": "code",
   "execution_count": 13,
   "id": "ef7314ef-ec6b-4410-9386-876692e06076",
   "metadata": {},
   "outputs": [
    {
     "data": {
      "text/html": [
       "<div>\n",
       "<style scoped>\n",
       "    .dataframe tbody tr th:only-of-type {\n",
       "        vertical-align: middle;\n",
       "    }\n",
       "\n",
       "    .dataframe tbody tr th {\n",
       "        vertical-align: top;\n",
       "    }\n",
       "\n",
       "    .dataframe thead th {\n",
       "        text-align: right;\n",
       "    }\n",
       "</style>\n",
       "<table border=\"1\" class=\"dataframe\">\n",
       "  <thead>\n",
       "    <tr style=\"text-align: right;\">\n",
       "      <th></th>\n",
       "      <th>0</th>\n",
       "      <th>1</th>\n",
       "      <th>2</th>\n",
       "      <th>3</th>\n",
       "      <th>4</th>\n",
       "      <th>5</th>\n",
       "      <th>6</th>\n",
       "      <th>7</th>\n",
       "      <th>8</th>\n",
       "      <th>9</th>\n",
       "      <th>...</th>\n",
       "      <th>990</th>\n",
       "      <th>991</th>\n",
       "      <th>992</th>\n",
       "      <th>993</th>\n",
       "      <th>994</th>\n",
       "      <th>995</th>\n",
       "      <th>996</th>\n",
       "      <th>997</th>\n",
       "      <th>998</th>\n",
       "      <th>999</th>\n",
       "    </tr>\n",
       "  </thead>\n",
       "  <tbody>\n",
       "    <tr>\n",
       "      <th>one</th>\n",
       "      <td>1.0</td>\n",
       "      <td>1.0</td>\n",
       "      <td>1.0</td>\n",
       "      <td>0.0</td>\n",
       "      <td>1.0</td>\n",
       "      <td>1.0</td>\n",
       "      <td>0.0</td>\n",
       "      <td>1.0</td>\n",
       "      <td>1.0</td>\n",
       "      <td>0.0</td>\n",
       "      <td>...</td>\n",
       "      <td>1.0</td>\n",
       "      <td>1.0</td>\n",
       "      <td>0.0</td>\n",
       "      <td>0.0</td>\n",
       "      <td>0.0</td>\n",
       "      <td>0.0</td>\n",
       "      <td>0.0</td>\n",
       "      <td>1.0</td>\n",
       "      <td>0.0</td>\n",
       "      <td>1.0</td>\n",
       "    </tr>\n",
       "    <tr>\n",
       "      <th>of</th>\n",
       "      <td>1.0</td>\n",
       "      <td>1.0</td>\n",
       "      <td>1.0</td>\n",
       "      <td>1.0</td>\n",
       "      <td>1.0</td>\n",
       "      <td>1.0</td>\n",
       "      <td>1.0</td>\n",
       "      <td>1.0</td>\n",
       "      <td>1.0</td>\n",
       "      <td>0.0</td>\n",
       "      <td>...</td>\n",
       "      <td>1.0</td>\n",
       "      <td>1.0</td>\n",
       "      <td>0.0</td>\n",
       "      <td>1.0</td>\n",
       "      <td>1.0</td>\n",
       "      <td>1.0</td>\n",
       "      <td>0.0</td>\n",
       "      <td>1.0</td>\n",
       "      <td>1.0</td>\n",
       "      <td>1.0</td>\n",
       "    </tr>\n",
       "    <tr>\n",
       "      <th>the</th>\n",
       "      <td>1.0</td>\n",
       "      <td>1.0</td>\n",
       "      <td>1.0</td>\n",
       "      <td>1.0</td>\n",
       "      <td>1.0</td>\n",
       "      <td>1.0</td>\n",
       "      <td>1.0</td>\n",
       "      <td>1.0</td>\n",
       "      <td>1.0</td>\n",
       "      <td>0.0</td>\n",
       "      <td>...</td>\n",
       "      <td>1.0</td>\n",
       "      <td>1.0</td>\n",
       "      <td>1.0</td>\n",
       "      <td>1.0</td>\n",
       "      <td>1.0</td>\n",
       "      <td>1.0</td>\n",
       "      <td>1.0</td>\n",
       "      <td>1.0</td>\n",
       "      <td>1.0</td>\n",
       "      <td>1.0</td>\n",
       "    </tr>\n",
       "    <tr>\n",
       "      <th>other</th>\n",
       "      <td>1.0</td>\n",
       "      <td>0.0</td>\n",
       "      <td>0.0</td>\n",
       "      <td>0.0</td>\n",
       "      <td>0.0</td>\n",
       "      <td>0.0</td>\n",
       "      <td>0.0</td>\n",
       "      <td>0.0</td>\n",
       "      <td>0.0</td>\n",
       "      <td>0.0</td>\n",
       "      <td>...</td>\n",
       "      <td>1.0</td>\n",
       "      <td>0.0</td>\n",
       "      <td>0.0</td>\n",
       "      <td>0.0</td>\n",
       "      <td>0.0</td>\n",
       "      <td>0.0</td>\n",
       "      <td>0.0</td>\n",
       "      <td>1.0</td>\n",
       "      <td>1.0</td>\n",
       "      <td>0.0</td>\n",
       "    </tr>\n",
       "    <tr>\n",
       "      <th>reviewers</th>\n",
       "      <td>1.0</td>\n",
       "      <td>0.0</td>\n",
       "      <td>0.0</td>\n",
       "      <td>0.0</td>\n",
       "      <td>0.0</td>\n",
       "      <td>0.0</td>\n",
       "      <td>0.0</td>\n",
       "      <td>0.0</td>\n",
       "      <td>0.0</td>\n",
       "      <td>0.0</td>\n",
       "      <td>...</td>\n",
       "      <td>0.0</td>\n",
       "      <td>0.0</td>\n",
       "      <td>0.0</td>\n",
       "      <td>0.0</td>\n",
       "      <td>0.0</td>\n",
       "      <td>0.0</td>\n",
       "      <td>0.0</td>\n",
       "      <td>0.0</td>\n",
       "      <td>0.0</td>\n",
       "      <td>0.0</td>\n",
       "    </tr>\n",
       "    <tr>\n",
       "      <th>...</th>\n",
       "      <td>...</td>\n",
       "      <td>...</td>\n",
       "      <td>...</td>\n",
       "      <td>...</td>\n",
       "      <td>...</td>\n",
       "      <td>...</td>\n",
       "      <td>...</td>\n",
       "      <td>...</td>\n",
       "      <td>...</td>\n",
       "      <td>...</td>\n",
       "      <td>...</td>\n",
       "      <td>...</td>\n",
       "      <td>...</td>\n",
       "      <td>...</td>\n",
       "      <td>...</td>\n",
       "      <td>...</td>\n",
       "      <td>...</td>\n",
       "      <td>...</td>\n",
       "      <td>...</td>\n",
       "      <td>...</td>\n",
       "      <td>...</td>\n",
       "    </tr>\n",
       "    <tr>\n",
       "      <th>offices</th>\n",
       "      <td>0.0</td>\n",
       "      <td>0.0</td>\n",
       "      <td>0.0</td>\n",
       "      <td>0.0</td>\n",
       "      <td>0.0</td>\n",
       "      <td>0.0</td>\n",
       "      <td>0.0</td>\n",
       "      <td>0.0</td>\n",
       "      <td>0.0</td>\n",
       "      <td>0.0</td>\n",
       "      <td>...</td>\n",
       "      <td>0.0</td>\n",
       "      <td>0.0</td>\n",
       "      <td>0.0</td>\n",
       "      <td>0.0</td>\n",
       "      <td>0.0</td>\n",
       "      <td>0.0</td>\n",
       "      <td>0.0</td>\n",
       "      <td>0.0</td>\n",
       "      <td>0.0</td>\n",
       "      <td>1.0</td>\n",
       "    </tr>\n",
       "    <tr>\n",
       "      <th>intuition</th>\n",
       "      <td>0.0</td>\n",
       "      <td>0.0</td>\n",
       "      <td>0.0</td>\n",
       "      <td>0.0</td>\n",
       "      <td>0.0</td>\n",
       "      <td>0.0</td>\n",
       "      <td>0.0</td>\n",
       "      <td>0.0</td>\n",
       "      <td>0.0</td>\n",
       "      <td>0.0</td>\n",
       "      <td>...</td>\n",
       "      <td>0.0</td>\n",
       "      <td>0.0</td>\n",
       "      <td>0.0</td>\n",
       "      <td>0.0</td>\n",
       "      <td>0.0</td>\n",
       "      <td>0.0</td>\n",
       "      <td>0.0</td>\n",
       "      <td>0.0</td>\n",
       "      <td>0.0</td>\n",
       "      <td>1.0</td>\n",
       "    </tr>\n",
       "    <tr>\n",
       "      <th>stubborn</th>\n",
       "      <td>0.0</td>\n",
       "      <td>0.0</td>\n",
       "      <td>0.0</td>\n",
       "      <td>0.0</td>\n",
       "      <td>0.0</td>\n",
       "      <td>0.0</td>\n",
       "      <td>0.0</td>\n",
       "      <td>0.0</td>\n",
       "      <td>0.0</td>\n",
       "      <td>0.0</td>\n",
       "      <td>...</td>\n",
       "      <td>0.0</td>\n",
       "      <td>0.0</td>\n",
       "      <td>0.0</td>\n",
       "      <td>0.0</td>\n",
       "      <td>0.0</td>\n",
       "      <td>0.0</td>\n",
       "      <td>0.0</td>\n",
       "      <td>0.0</td>\n",
       "      <td>0.0</td>\n",
       "      <td>1.0</td>\n",
       "    </tr>\n",
       "    <tr>\n",
       "      <th>masking</th>\n",
       "      <td>0.0</td>\n",
       "      <td>0.0</td>\n",
       "      <td>0.0</td>\n",
       "      <td>0.0</td>\n",
       "      <td>0.0</td>\n",
       "      <td>0.0</td>\n",
       "      <td>0.0</td>\n",
       "      <td>0.0</td>\n",
       "      <td>0.0</td>\n",
       "      <td>0.0</td>\n",
       "      <td>...</td>\n",
       "      <td>0.0</td>\n",
       "      <td>0.0</td>\n",
       "      <td>0.0</td>\n",
       "      <td>0.0</td>\n",
       "      <td>0.0</td>\n",
       "      <td>0.0</td>\n",
       "      <td>0.0</td>\n",
       "      <td>0.0</td>\n",
       "      <td>0.0</td>\n",
       "      <td>1.0</td>\n",
       "    </tr>\n",
       "    <tr>\n",
       "      <th>planes</th>\n",
       "      <td>0.0</td>\n",
       "      <td>0.0</td>\n",
       "      <td>0.0</td>\n",
       "      <td>0.0</td>\n",
       "      <td>0.0</td>\n",
       "      <td>0.0</td>\n",
       "      <td>0.0</td>\n",
       "      <td>0.0</td>\n",
       "      <td>0.0</td>\n",
       "      <td>0.0</td>\n",
       "      <td>...</td>\n",
       "      <td>0.0</td>\n",
       "      <td>0.0</td>\n",
       "      <td>0.0</td>\n",
       "      <td>0.0</td>\n",
       "      <td>0.0</td>\n",
       "      <td>0.0</td>\n",
       "      <td>0.0</td>\n",
       "      <td>0.0</td>\n",
       "      <td>0.0</td>\n",
       "      <td>1.0</td>\n",
       "    </tr>\n",
       "  </tbody>\n",
       "</table>\n",
       "<p>14719 rows × 1000 columns</p>\n",
       "</div>"
      ],
      "text/plain": [
       "           0    1    2    3    4    5    6    7    8    9    ...  990  991  \\\n",
       "one        1.0  1.0  1.0  0.0  1.0  1.0  0.0  1.0  1.0  0.0  ...  1.0  1.0   \n",
       "of         1.0  1.0  1.0  1.0  1.0  1.0  1.0  1.0  1.0  0.0  ...  1.0  1.0   \n",
       "the        1.0  1.0  1.0  1.0  1.0  1.0  1.0  1.0  1.0  0.0  ...  1.0  1.0   \n",
       "other      1.0  0.0  0.0  0.0  0.0  0.0  0.0  0.0  0.0  0.0  ...  1.0  0.0   \n",
       "reviewers  1.0  0.0  0.0  0.0  0.0  0.0  0.0  0.0  0.0  0.0  ...  0.0  0.0   \n",
       "...        ...  ...  ...  ...  ...  ...  ...  ...  ...  ...  ...  ...  ...   \n",
       "offices    0.0  0.0  0.0  0.0  0.0  0.0  0.0  0.0  0.0  0.0  ...  0.0  0.0   \n",
       "intuition  0.0  0.0  0.0  0.0  0.0  0.0  0.0  0.0  0.0  0.0  ...  0.0  0.0   \n",
       "stubborn   0.0  0.0  0.0  0.0  0.0  0.0  0.0  0.0  0.0  0.0  ...  0.0  0.0   \n",
       "masking    0.0  0.0  0.0  0.0  0.0  0.0  0.0  0.0  0.0  0.0  ...  0.0  0.0   \n",
       "planes     0.0  0.0  0.0  0.0  0.0  0.0  0.0  0.0  0.0  0.0  ...  0.0  0.0   \n",
       "\n",
       "           992  993  994  995  996  997  998  999  \n",
       "one        0.0  0.0  0.0  0.0  0.0  1.0  0.0  1.0  \n",
       "of         0.0  1.0  1.0  1.0  0.0  1.0  1.0  1.0  \n",
       "the        1.0  1.0  1.0  1.0  1.0  1.0  1.0  1.0  \n",
       "other      0.0  0.0  0.0  0.0  0.0  1.0  1.0  0.0  \n",
       "reviewers  0.0  0.0  0.0  0.0  0.0  0.0  0.0  0.0  \n",
       "...        ...  ...  ...  ...  ...  ...  ...  ...  \n",
       "offices    0.0  0.0  0.0  0.0  0.0  0.0  0.0  1.0  \n",
       "intuition  0.0  0.0  0.0  0.0  0.0  0.0  0.0  1.0  \n",
       "stubborn   0.0  0.0  0.0  0.0  0.0  0.0  0.0  1.0  \n",
       "masking    0.0  0.0  0.0  0.0  0.0  0.0  0.0  1.0  \n",
       "planes     0.0  0.0  0.0  0.0  0.0  0.0  0.0  1.0  \n",
       "\n",
       "[14719 rows x 1000 columns]"
      ]
     },
     "execution_count": 13,
     "metadata": {},
     "output_type": "execute_result"
    }
   ],
   "source": [
    "bow"
   ]
  },
  {
   "cell_type": "code",
   "execution_count": 14,
   "id": "51ab9c6e-9986-41b3-8a31-6902f222f606",
   "metadata": {},
   "outputs": [
    {
     "data": {
      "text/plain": [
       "one          501.0\n",
       "of           954.0\n",
       "the          994.0\n",
       "other        242.0\n",
       "reviewers      7.0\n",
       "             ...  \n",
       "offices        1.0\n",
       "intuition      1.0\n",
       "stubborn       1.0\n",
       "masking        1.0\n",
       "planes         1.0\n",
       "Length: 14719, dtype: float64"
      ]
     },
     "execution_count": 14,
     "metadata": {},
     "output_type": "execute_result"
    }
   ],
   "source": [
    "sum_column = bow.sum(axis=1)\n",
    "sum_column\n"
   ]
  },
  {
   "cell_type": "code",
   "execution_count": 16,
   "id": "9abc6d8f-1736-49de-8467-66fe22cfe4b2",
   "metadata": {},
   "outputs": [],
   "source": [
    "Val=sum_column.values"
   ]
  },
  {
   "cell_type": "code",
   "execution_count": 19,
   "id": "da190043-4870-4994-b6a7-8849726b13e9",
   "metadata": {},
   "outputs": [],
   "source": [
    "Val=np.asarray(Val)"
   ]
  },
  {
   "cell_type": "code",
   "execution_count": null,
   "id": "42f6defc-493b-4d1f-a0c8-499aa5fdfe0f",
   "metadata": {},
   "outputs": [],
   "source": []
  },
  {
   "cell_type": "code",
   "execution_count": 17,
   "id": "d4cb0c9c-e375-4841-b6a1-25f693b80a60",
   "metadata": {},
   "outputs": [
    {
     "data": {
      "text/plain": [
       "cupy._core.core.ndarray"
      ]
     },
     "execution_count": 17,
     "metadata": {},
     "output_type": "execute_result"
    }
   ],
   "source": [
    "type(sum_column)"
   ]
  },
  {
   "cell_type": "code",
   "execution_count": 21,
   "id": "7a35fd18-2765-4394-8675-8d1ba9c94a82",
   "metadata": {},
   "outputs": [],
   "source": [
    "A=bow1.values\n",
    "B=A.T"
   ]
  },
  {
   "cell_type": "code",
   "execution_count": 22,
   "id": "2985b04a-5b92-4ea1-b5a6-80b752ccd315",
   "metadata": {},
   "outputs": [],
   "source": [
    "cooccurrence_matrix=A.dot(B)"
   ]
  },
  {
   "cell_type": "code",
   "execution_count": 23,
   "id": "d00b8572-dcde-4e2b-b2f7-58f4caa15b09",
   "metadata": {},
   "outputs": [],
   "source": [
    "cooccurrence_matrix=np.asarray(cooccurrence_matrix)"
   ]
  },
  {
   "cell_type": "code",
   "execution_count": 24,
   "id": "aa138522-70a8-4888-aad9-f7e69c87518f",
   "metadata": {},
   "outputs": [
    {
     "data": {
      "text/plain": [
       "cupy._core.core.ndarray"
      ]
     },
     "execution_count": 24,
     "metadata": {},
     "output_type": "execute_result"
    }
   ],
   "source": [
    "type(cooccurrence_matrix)"
   ]
  },
  {
   "cell_type": "code",
   "execution_count": 25,
   "id": "15891ed3-4f24-4f96-a2ff-4cacf2bcad9a",
   "metadata": {},
   "outputs": [],
   "source": [
    "np.fill_diagonal(cooccurrence_matrix,0)"
   ]
  },
  {
   "cell_type": "code",
   "execution_count": 26,
   "id": "a566c350-ee57-42f4-8569-3709b8c9c867",
   "metadata": {},
   "outputs": [
    {
     "data": {
      "text/plain": [
       "(14719, 14719)"
      ]
     },
     "execution_count": 26,
     "metadata": {},
     "output_type": "execute_result"
    }
   ],
   "source": [
    "cooccurrence_matrix.shape"
   ]
  },
  {
   "cell_type": "code",
   "execution_count": 27,
   "id": "7ee0c6fb-ced8-4721-85e6-8d4954e45598",
   "metadata": {},
   "outputs": [
    {
     "data": {
      "text/plain": [
       "array([[  0., 496., 500., ...,   1.,   1.,   1.],\n",
       "       [496.,   0., 950., ...,   1.,   1.,   1.],\n",
       "       [500., 950.,   0., ...,   1.,   1.,   1.],\n",
       "       ...,\n",
       "       [  1.,   1.,   1., ...,   0.,   1.,   1.],\n",
       "       [  1.,   1.,   1., ...,   1.,   0.,   1.],\n",
       "       [  1.,   1.,   1., ...,   1.,   1.,   0.]])"
      ]
     },
     "execution_count": 27,
     "metadata": {},
     "output_type": "execute_result"
    }
   ],
   "source": [
    "cooccurrence_matrix"
   ]
  },
  {
   "cell_type": "code",
   "execution_count": null,
   "id": "8832c99b-b566-4a93-98e5-a7366efe9010",
   "metadata": {},
   "outputs": [],
   "source": [
    "print(\"see\")"
   ]
  },
  {
   "cell_type": "code",
   "execution_count": 55,
   "id": "4a4a7f35-4d06-44f6-a0f3-af68383816ed",
   "metadata": {},
   "outputs": [
    {
     "name": "stdout",
     "output_type": "stream",
     "text": [
      "* * * * * * * * * * * * * * * * * * * * * * * * * * * * * * * * * * * * * * * * * * * * * * * * * * * * * * * * * * * * * * * * * * * * * * * * * * * * * * * * * * * * * * * * * * * * * * * * * * * * * * * * * * * * * * * * * * * * * * * * * * * * * * * * * * * * * * * * * * * * * * * * * * * * * * * * * * * * * * * * * * * * * * * * * * * * * * * * * * * * * * * * * * * * * * * * * * * * * * * * * * * * * * * * * * * * * * * * * * * * * * * * * * * * * * * * * * * * * * * * * * * * * * * * * * * * * * * * * * * * * * * * * * * * * * * * * * * * * * * * * * * * * * * * * * * * * * * * * * * * * * * * * * * * * * * * * * * * * * * * * * * * * * * * * * * * * * * * * * * * * * * * * * * * * * * * * * * * * * * * * * * * * * * * * * * * * * * * * * * * * * * * * * * * * * * * * * * * * * * * * * * * * * * * * * * * * * * * * * * * * * * * * * * * * * * * * * * * * * * * * * * * * * * * * * * * * * * * * * * * * * * * * * * * * * * * * * * * * * * * * * * * * * * * * * * * * * * * * * * * "
     ]
    }
   ],
   "source": [
    "PPMI=[]\n",
    "for i in range(500):\n",
    "    new=[]\n",
    "    for j in range(500):\n",
    "        if cooccurrence_matrix[i][j]<=0 :\n",
    "            new.append(0.0)\n",
    "        else:\n",
    "            new.append( math.log((cooccurrence_matrix[i][j]*1000)/(Val[i]*Val[j])) )\n",
    "    print(\"*\",end=\" \")\n",
    "    PPMI.append(new)"
   ]
  },
  {
   "cell_type": "code",
   "execution_count": 56,
   "id": "28e0a44d-85d6-4244-bb35-c1c8ebc8e0cf",
   "metadata": {},
   "outputs": [
    {
     "data": {
      "text/plain": [
       "(500, 500)"
      ]
     },
     "execution_count": 56,
     "metadata": {},
     "output_type": "execute_result"
    }
   ],
   "source": [
    "PPMI=np.asarray(PPMI)\n",
    "PPMI.shape"
   ]
  },
  {
   "cell_type": "code",
   "execution_count": 57,
   "id": "8616e2fb-8710-449c-8bf2-379d6ec68292",
   "metadata": {},
   "outputs": [
    {
     "data": {
      "text/plain": [
       "array([[ 0.        ,  0.03706143,  0.00402007, ...,  0.14110284,\n",
       "         0.41828219,  0.24073268],\n",
       "       [ 0.03706143,  0.        ,  0.00181639, ...,  0.04709161,\n",
       "         0.04709161,  0.03604177],\n",
       "       [ 0.00402007,  0.00181639,  0.        , ...,  0.00601807,\n",
       "         0.00601807,  0.00601807],\n",
       "       ...,\n",
       "       [ 0.14110284,  0.04709161,  0.00601807, ...,  0.        ,\n",
       "        -1.24818106,  0.5250936 ],\n",
       "       [ 0.41828219,  0.04709161,  0.00601807, ..., -1.24818106,\n",
       "         0.        ,  0.44349495],\n",
       "       [ 0.24073268,  0.03604177,  0.00601807, ...,  0.5250936 ,\n",
       "         0.44349495,  0.        ]])"
      ]
     },
     "execution_count": 57,
     "metadata": {},
     "output_type": "execute_result"
    }
   ],
   "source": [
    "PPMI"
   ]
  },
  {
   "cell_type": "code",
   "execution_count": null,
   "id": "6d736cb1-cb00-4a77-a43e-32be280b371b",
   "metadata": {},
   "outputs": [],
   "source": []
  }
 ],
 "metadata": {
  "kernelspec": {
   "display_name": "Python 3",
   "language": "python",
   "name": "python3"
  },
  "language_info": {
   "codemirror_mode": {
    "name": "ipython",
    "version": 3
   },
   "file_extension": ".py",
   "mimetype": "text/x-python",
   "name": "python",
   "nbconvert_exporter": "python",
   "pygments_lexer": "ipython3",
   "version": "3.7.10"
  }
 },
 "nbformat": 4,
 "nbformat_minor": 5
}
